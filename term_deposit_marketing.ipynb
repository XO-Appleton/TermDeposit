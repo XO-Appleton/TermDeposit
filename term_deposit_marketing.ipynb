{
 "cells": [
  {
   "cell_type": "markdown",
   "id": "597fff81",
   "metadata": {},
   "source": [
    "# Term Deposit Marketing\n",
    "- Author: Yumo Bai\n",
    "- Email: baiym104@gmail.com\n",
    "- Date: Feb 27, 2023"
   ]
  },
  {
   "cell_type": "markdown",
   "id": "b979d773",
   "metadata": {},
   "source": [
    "## Load Packages"
   ]
  },
  {
   "cell_type": "code",
   "execution_count": 1,
   "id": "0377065b",
   "metadata": {
    "ExecuteTime": {
     "end_time": "2023-07-10T22:59:18.566879Z",
     "start_time": "2023-07-10T22:59:17.350872Z"
    }
   },
   "outputs": [],
   "source": [
    "import numpy as np\n",
    "import pandas as pd\n",
    "import matplotlib.pyplot as plt\n",
    "import seaborn as sns\n",
    "\n",
    "from sklearn.model_selection import train_test_split\n",
    "from sklearn.linear_model import LogisticRegression\n",
    "from sklearn.svm import SVC\n",
    "from sklearn.neighbors import KNeighborsClassifier\n",
    "from sklearn.ensemble import RandomForestClassifier\n",
    "from sklearn.ensemble import AdaBoostClassifier\n",
    "import xgboost as xgb"
   ]
  },
  {
   "cell_type": "markdown",
   "id": "d3454a3d",
   "metadata": {},
   "source": [
    "## Data Wrangling and Preprocessing\n",
    "\n",
    "First let's load and take a look at the dataset."
   ]
  },
  {
   "cell_type": "code",
   "execution_count": 2,
   "id": "7c3713e0",
   "metadata": {
    "ExecuteTime": {
     "end_time": "2023-07-10T22:59:18.606801Z",
     "start_time": "2023-07-10T22:59:18.567721Z"
    }
   },
   "outputs": [],
   "source": [
    "df = pd.read_csv('./data/term-deposit-marketing-2020.csv')"
   ]
  },
  {
   "cell_type": "code",
   "execution_count": 3,
   "id": "471d7e4e",
   "metadata": {
    "ExecuteTime": {
     "end_time": "2023-07-10T22:59:18.617768Z",
     "start_time": "2023-07-10T22:59:18.609007Z"
    }
   },
   "outputs": [
    {
     "data": {
      "text/html": [
       "<div>\n",
       "<style scoped>\n",
       "    .dataframe tbody tr th:only-of-type {\n",
       "        vertical-align: middle;\n",
       "    }\n",
       "\n",
       "    .dataframe tbody tr th {\n",
       "        vertical-align: top;\n",
       "    }\n",
       "\n",
       "    .dataframe thead th {\n",
       "        text-align: right;\n",
       "    }\n",
       "</style>\n",
       "<table border=\"1\" class=\"dataframe\">\n",
       "  <thead>\n",
       "    <tr style=\"text-align: right;\">\n",
       "      <th></th>\n",
       "      <th>age</th>\n",
       "      <th>job</th>\n",
       "      <th>marital</th>\n",
       "      <th>education</th>\n",
       "      <th>default</th>\n",
       "      <th>balance</th>\n",
       "      <th>housing</th>\n",
       "      <th>loan</th>\n",
       "      <th>contact</th>\n",
       "      <th>day</th>\n",
       "      <th>month</th>\n",
       "      <th>duration</th>\n",
       "      <th>campaign</th>\n",
       "      <th>y</th>\n",
       "    </tr>\n",
       "  </thead>\n",
       "  <tbody>\n",
       "    <tr>\n",
       "      <th>0</th>\n",
       "      <td>58</td>\n",
       "      <td>management</td>\n",
       "      <td>married</td>\n",
       "      <td>tertiary</td>\n",
       "      <td>no</td>\n",
       "      <td>2143</td>\n",
       "      <td>yes</td>\n",
       "      <td>no</td>\n",
       "      <td>unknown</td>\n",
       "      <td>5</td>\n",
       "      <td>may</td>\n",
       "      <td>261</td>\n",
       "      <td>1</td>\n",
       "      <td>no</td>\n",
       "    </tr>\n",
       "    <tr>\n",
       "      <th>1</th>\n",
       "      <td>44</td>\n",
       "      <td>technician</td>\n",
       "      <td>single</td>\n",
       "      <td>secondary</td>\n",
       "      <td>no</td>\n",
       "      <td>29</td>\n",
       "      <td>yes</td>\n",
       "      <td>no</td>\n",
       "      <td>unknown</td>\n",
       "      <td>5</td>\n",
       "      <td>may</td>\n",
       "      <td>151</td>\n",
       "      <td>1</td>\n",
       "      <td>no</td>\n",
       "    </tr>\n",
       "    <tr>\n",
       "      <th>2</th>\n",
       "      <td>33</td>\n",
       "      <td>entrepreneur</td>\n",
       "      <td>married</td>\n",
       "      <td>secondary</td>\n",
       "      <td>no</td>\n",
       "      <td>2</td>\n",
       "      <td>yes</td>\n",
       "      <td>yes</td>\n",
       "      <td>unknown</td>\n",
       "      <td>5</td>\n",
       "      <td>may</td>\n",
       "      <td>76</td>\n",
       "      <td>1</td>\n",
       "      <td>no</td>\n",
       "    </tr>\n",
       "    <tr>\n",
       "      <th>3</th>\n",
       "      <td>47</td>\n",
       "      <td>blue-collar</td>\n",
       "      <td>married</td>\n",
       "      <td>unknown</td>\n",
       "      <td>no</td>\n",
       "      <td>1506</td>\n",
       "      <td>yes</td>\n",
       "      <td>no</td>\n",
       "      <td>unknown</td>\n",
       "      <td>5</td>\n",
       "      <td>may</td>\n",
       "      <td>92</td>\n",
       "      <td>1</td>\n",
       "      <td>no</td>\n",
       "    </tr>\n",
       "    <tr>\n",
       "      <th>4</th>\n",
       "      <td>33</td>\n",
       "      <td>unknown</td>\n",
       "      <td>single</td>\n",
       "      <td>unknown</td>\n",
       "      <td>no</td>\n",
       "      <td>1</td>\n",
       "      <td>no</td>\n",
       "      <td>no</td>\n",
       "      <td>unknown</td>\n",
       "      <td>5</td>\n",
       "      <td>may</td>\n",
       "      <td>198</td>\n",
       "      <td>1</td>\n",
       "      <td>no</td>\n",
       "    </tr>\n",
       "  </tbody>\n",
       "</table>\n",
       "</div>"
      ],
      "text/plain": [
       "   age           job  marital  education default  balance housing loan  \\\n",
       "0   58    management  married   tertiary      no     2143     yes   no   \n",
       "1   44    technician   single  secondary      no       29     yes   no   \n",
       "2   33  entrepreneur  married  secondary      no        2     yes  yes   \n",
       "3   47   blue-collar  married    unknown      no     1506     yes   no   \n",
       "4   33       unknown   single    unknown      no        1      no   no   \n",
       "\n",
       "   contact  day month  duration  campaign   y  \n",
       "0  unknown    5   may       261         1  no  \n",
       "1  unknown    5   may       151         1  no  \n",
       "2  unknown    5   may        76         1  no  \n",
       "3  unknown    5   may        92         1  no  \n",
       "4  unknown    5   may       198         1  no  "
      ]
     },
     "execution_count": 3,
     "metadata": {},
     "output_type": "execute_result"
    }
   ],
   "source": [
    "df.head()"
   ]
  },
  {
   "cell_type": "code",
   "execution_count": 4,
   "id": "ac6024de",
   "metadata": {
    "ExecuteTime": {
     "end_time": "2023-07-10T22:59:18.636846Z",
     "start_time": "2023-07-10T22:59:18.618435Z"
    }
   },
   "outputs": [
    {
     "name": "stdout",
     "output_type": "stream",
     "text": [
      "<class 'pandas.core.frame.DataFrame'>\n",
      "RangeIndex: 40000 entries, 0 to 39999\n",
      "Data columns (total 14 columns):\n",
      " #   Column     Non-Null Count  Dtype \n",
      "---  ------     --------------  ----- \n",
      " 0   age        40000 non-null  int64 \n",
      " 1   job        40000 non-null  object\n",
      " 2   marital    40000 non-null  object\n",
      " 3   education  40000 non-null  object\n",
      " 4   default    40000 non-null  object\n",
      " 5   balance    40000 non-null  int64 \n",
      " 6   housing    40000 non-null  object\n",
      " 7   loan       40000 non-null  object\n",
      " 8   contact    40000 non-null  object\n",
      " 9   day        40000 non-null  int64 \n",
      " 10  month      40000 non-null  object\n",
      " 11  duration   40000 non-null  int64 \n",
      " 12  campaign   40000 non-null  int64 \n",
      " 13  y          40000 non-null  object\n",
      "dtypes: int64(5), object(9)\n",
      "memory usage: 4.3+ MB\n"
     ]
    }
   ],
   "source": [
    "df.info()"
   ]
  },
  {
   "cell_type": "markdown",
   "id": "d6ce3c8b",
   "metadata": {},
   "source": [
    "It appears that there is no `Null` values in the dataset. However, we do notice that the dataset is a mix of categorical features and numerical features. We would need to convert the categorical features into numerical representations so that we can apply statistical modeling."
   ]
  },
  {
   "cell_type": "code",
   "execution_count": 5,
   "id": "217c1b4d",
   "metadata": {
    "ExecuteTime": {
     "end_time": "2023-07-10T22:59:20.651298Z",
     "start_time": "2023-07-10T22:59:18.637749Z"
    }
   },
   "outputs": [
    {
     "name": "stdout",
     "output_type": "stream",
     "text": [
      "Requirement already satisfied: pandas_profiling in /Users/baiyumo/opt/anaconda3/lib/python3.9/site-packages (3.6.6)\n",
      "Requirement already satisfied: ydata-profiling in /Users/baiyumo/opt/anaconda3/lib/python3.9/site-packages (from pandas_profiling) (4.3.1)\n",
      "Requirement already satisfied: htmlmin==0.1.12 in /Users/baiyumo/opt/anaconda3/lib/python3.9/site-packages (from ydata-profiling->pandas_profiling) (0.1.12)\n",
      "Requirement already satisfied: dacite>=1.8 in /Users/baiyumo/opt/anaconda3/lib/python3.9/site-packages (from ydata-profiling->pandas_profiling) (1.8.1)\n",
      "Requirement already satisfied: seaborn<0.13,>=0.10.1 in /Users/baiyumo/opt/anaconda3/lib/python3.9/site-packages (from ydata-profiling->pandas_profiling) (0.11.2)\n",
      "Requirement already satisfied: matplotlib<4,>=3.2 in /Users/baiyumo/opt/anaconda3/lib/python3.9/site-packages (from ydata-profiling->pandas_profiling) (3.4.3)\n",
      "Requirement already satisfied: visions[type_image_path]==0.7.5 in /Users/baiyumo/opt/anaconda3/lib/python3.9/site-packages (from ydata-profiling->pandas_profiling) (0.7.5)\n",
      "Requirement already satisfied: pydantic<2,>=1.8.1 in /Users/baiyumo/opt/anaconda3/lib/python3.9/site-packages (from ydata-profiling->pandas_profiling) (1.10.11)\n",
      "Requirement already satisfied: jinja2<3.2,>=2.11.1 in /Users/baiyumo/opt/anaconda3/lib/python3.9/site-packages (from ydata-profiling->pandas_profiling) (2.11.3)\n",
      "Requirement already satisfied: phik<0.13,>=0.11.1 in /Users/baiyumo/opt/anaconda3/lib/python3.9/site-packages (from ydata-profiling->pandas_profiling) (0.12.3)\n",
      "Requirement already satisfied: imagehash==4.3.1 in /Users/baiyumo/opt/anaconda3/lib/python3.9/site-packages (from ydata-profiling->pandas_profiling) (4.3.1)\n",
      "Requirement already satisfied: scipy<1.11,>=1.4.1 in /Users/baiyumo/opt/anaconda3/lib/python3.9/site-packages (from ydata-profiling->pandas_profiling) (1.7.1)\n",
      "Requirement already satisfied: statsmodels<1,>=0.13.2 in /Users/baiyumo/opt/anaconda3/lib/python3.9/site-packages (from ydata-profiling->pandas_profiling) (0.14.0)\n",
      "Requirement already satisfied: typeguard<3,>=2.13.2 in /Users/baiyumo/opt/anaconda3/lib/python3.9/site-packages (from ydata-profiling->pandas_profiling) (2.13.3)\n",
      "Requirement already satisfied: PyYAML<6.1,>=5.0.0 in /Users/baiyumo/opt/anaconda3/lib/python3.9/site-packages (from ydata-profiling->pandas_profiling) (6.0)\n",
      "Requirement already satisfied: requests<3,>=2.24.0 in /Users/baiyumo/opt/anaconda3/lib/python3.9/site-packages (from ydata-profiling->pandas_profiling) (2.26.0)\n",
      "Requirement already satisfied: wordcloud>=1.9.1 in /Users/baiyumo/opt/anaconda3/lib/python3.9/site-packages (from ydata-profiling->pandas_profiling) (1.9.2)\n",
      "Requirement already satisfied: tqdm<5,>=4.48.2 in /Users/baiyumo/opt/anaconda3/lib/python3.9/site-packages (from ydata-profiling->pandas_profiling) (4.62.3)\n",
      "Requirement already satisfied: numpy<1.24,>=1.16.0 in /Users/baiyumo/opt/anaconda3/lib/python3.9/site-packages (from ydata-profiling->pandas_profiling) (1.20.3)\n",
      "Requirement already satisfied: multimethod<2,>=1.4 in /Users/baiyumo/opt/anaconda3/lib/python3.9/site-packages (from ydata-profiling->pandas_profiling) (1.9.1)\n",
      "Requirement already satisfied: pandas!=1.4.0,<2.1,>1.1 in /Users/baiyumo/opt/anaconda3/lib/python3.9/site-packages (from ydata-profiling->pandas_profiling) (1.3.4)\n",
      "Requirement already satisfied: PyWavelets in /Users/baiyumo/opt/anaconda3/lib/python3.9/site-packages (from imagehash==4.3.1->ydata-profiling->pandas_profiling) (1.1.1)\n",
      "Requirement already satisfied: pillow in /Users/baiyumo/opt/anaconda3/lib/python3.9/site-packages (from imagehash==4.3.1->ydata-profiling->pandas_profiling) (8.4.0)\n",
      "Requirement already satisfied: tangled-up-in-unicode>=0.0.4 in /Users/baiyumo/opt/anaconda3/lib/python3.9/site-packages (from visions[type_image_path]==0.7.5->ydata-profiling->pandas_profiling) (0.2.0)\n",
      "Requirement already satisfied: attrs>=19.3.0 in /Users/baiyumo/opt/anaconda3/lib/python3.9/site-packages (from visions[type_image_path]==0.7.5->ydata-profiling->pandas_profiling) (21.2.0)\n",
      "Requirement already satisfied: networkx>=2.4 in /Users/baiyumo/opt/anaconda3/lib/python3.9/site-packages (from visions[type_image_path]==0.7.5->ydata-profiling->pandas_profiling) (2.6.3)\n",
      "Requirement already satisfied: MarkupSafe>=0.23 in /Users/baiyumo/opt/anaconda3/lib/python3.9/site-packages (from jinja2<3.2,>=2.11.1->ydata-profiling->pandas_profiling) (1.1.1)\n",
      "Requirement already satisfied: kiwisolver>=1.0.1 in /Users/baiyumo/opt/anaconda3/lib/python3.9/site-packages (from matplotlib<4,>=3.2->ydata-profiling->pandas_profiling) (1.3.1)\n",
      "Requirement already satisfied: pyparsing>=2.2.1 in /Users/baiyumo/opt/anaconda3/lib/python3.9/site-packages (from matplotlib<4,>=3.2->ydata-profiling->pandas_profiling) (3.0.4)\n",
      "Requirement already satisfied: python-dateutil>=2.7 in /Users/baiyumo/opt/anaconda3/lib/python3.9/site-packages (from matplotlib<4,>=3.2->ydata-profiling->pandas_profiling) (2.8.2)\n",
      "Requirement already satisfied: cycler>=0.10 in /Users/baiyumo/opt/anaconda3/lib/python3.9/site-packages (from matplotlib<4,>=3.2->ydata-profiling->pandas_profiling) (0.10.0)\n",
      "Requirement already satisfied: six in /Users/baiyumo/opt/anaconda3/lib/python3.9/site-packages (from cycler>=0.10->matplotlib<4,>=3.2->ydata-profiling->pandas_profiling) (1.16.0)\n",
      "Requirement already satisfied: pytz>=2017.3 in /Users/baiyumo/opt/anaconda3/lib/python3.9/site-packages (from pandas!=1.4.0,<2.1,>1.1->ydata-profiling->pandas_profiling) (2021.3)\n",
      "Requirement already satisfied: joblib>=0.14.1 in /Users/baiyumo/opt/anaconda3/lib/python3.9/site-packages (from phik<0.13,>=0.11.1->ydata-profiling->pandas_profiling) (1.3.1)\n",
      "Requirement already satisfied: typing-extensions>=4.2.0 in /Users/baiyumo/opt/anaconda3/lib/python3.9/site-packages (from pydantic<2,>=1.8.1->ydata-profiling->pandas_profiling) (4.7.1)\n",
      "Requirement already satisfied: idna<4,>=2.5 in /Users/baiyumo/opt/anaconda3/lib/python3.9/site-packages (from requests<3,>=2.24.0->ydata-profiling->pandas_profiling) (3.2)\n",
      "Requirement already satisfied: urllib3<1.27,>=1.21.1 in /Users/baiyumo/opt/anaconda3/lib/python3.9/site-packages (from requests<3,>=2.24.0->ydata-profiling->pandas_profiling) (1.26.7)\n",
      "Requirement already satisfied: charset-normalizer~=2.0.0 in /Users/baiyumo/opt/anaconda3/lib/python3.9/site-packages (from requests<3,>=2.24.0->ydata-profiling->pandas_profiling) (2.0.4)\n",
      "Requirement already satisfied: certifi>=2017.4.17 in /Users/baiyumo/opt/anaconda3/lib/python3.9/site-packages (from requests<3,>=2.24.0->ydata-profiling->pandas_profiling) (2021.10.8)\n",
      "Requirement already satisfied: packaging>=21.3 in /Users/baiyumo/opt/anaconda3/lib/python3.9/site-packages (from statsmodels<1,>=0.13.2->ydata-profiling->pandas_profiling) (23.1)\n",
      "Requirement already satisfied: patsy>=0.5.2 in /Users/baiyumo/opt/anaconda3/lib/python3.9/site-packages (from statsmodels<1,>=0.13.2->ydata-profiling->pandas_profiling) (0.5.2)\n"
     ]
    }
   ],
   "source": [
    "!pip install pandas_profiling"
   ]
  },
  {
   "cell_type": "code",
   "execution_count": 6,
   "id": "c2a7345a",
   "metadata": {
    "ExecuteTime": {
     "end_time": "2023-07-10T22:59:27.007338Z",
     "start_time": "2023-07-10T22:59:20.653296Z"
    }
   },
   "outputs": [
    {
     "name": "stderr",
     "output_type": "stream",
     "text": [
      "/var/folders/wn/w3jq3_4j587czl2dq_m0shy40000gn/T/ipykernel_49646/3768113066.py:1: DeprecationWarning: `import pandas_profiling` is going to be deprecated by April 1st. Please use `import ydata_profiling` instead.\n",
      "  from pandas_profiling import ProfileReport\n"
     ]
    },
    {
     "data": {
      "application/vnd.jupyter.widget-view+json": {
       "model_id": "0eafebd30eb74af0bf4b0bce76a4922b",
       "version_major": 2,
       "version_minor": 0
      },
      "text/plain": [
       "Summarize dataset:   0%|          | 0/5 [00:00<?, ?it/s]"
      ]
     },
     "metadata": {},
     "output_type": "display_data"
    },
    {
     "data": {
      "application/vnd.jupyter.widget-view+json": {
       "model_id": "ecb5a710776040c39c449af29a34caf8",
       "version_major": 2,
       "version_minor": 0
      },
      "text/plain": [
       "Generate report structure:   0%|          | 0/1 [00:00<?, ?it/s]"
      ]
     },
     "metadata": {},
     "output_type": "display_data"
    },
    {
     "data": {
      "application/vnd.jupyter.widget-view+json": {
       "model_id": "47b4e7c177144e4b8eb6aca3b42f42c7",
       "version_major": 2,
       "version_minor": 0
      },
      "text/plain": [
       "Render HTML:   0%|          | 0/1 [00:00<?, ?it/s]"
      ]
     },
     "metadata": {},
     "output_type": "display_data"
    },
    {
     "data": {
      "application/vnd.jupyter.widget-view+json": {
       "model_id": "5ed4c42935eb4fe1ada6bec4d8ead4b8",
       "version_major": 2,
       "version_minor": 0
      },
      "text/plain": [
       "Export report to file:   0%|          | 0/1 [00:00<?, ?it/s]"
      ]
     },
     "metadata": {},
     "output_type": "display_data"
    }
   ],
   "source": [
    "from pandas_profiling import ProfileReport\n",
    "\n",
    "profile = ProfileReport(df, title=\"Profiling Report\")\n",
    "profile.to_file(\"Profiling Report.html\")"
   ]
  },
  {
   "cell_type": "markdown",
   "id": "df62a3a2",
   "metadata": {},
   "source": [
    "### Processing Categorical Features"
   ]
  },
  {
   "cell_type": "code",
   "execution_count": 7,
   "id": "b43c6367",
   "metadata": {
    "ExecuteTime": {
     "end_time": "2023-07-10T22:59:27.023826Z",
     "start_time": "2023-07-10T22:59:27.008193Z"
    }
   },
   "outputs": [
    {
     "name": "stdout",
     "output_type": "stream",
     "text": [
      "There are 9 categorical features in the dataset.\n",
      "The categorical features are ['job' 'marital' 'education' 'default' 'housing' 'loan' 'contact' 'month'\n",
      " 'y']\n"
     ]
    },
    {
     "data": {
      "text/html": [
       "<div>\n",
       "<style scoped>\n",
       "    .dataframe tbody tr th:only-of-type {\n",
       "        vertical-align: middle;\n",
       "    }\n",
       "\n",
       "    .dataframe tbody tr th {\n",
       "        vertical-align: top;\n",
       "    }\n",
       "\n",
       "    .dataframe thead th {\n",
       "        text-align: right;\n",
       "    }\n",
       "</style>\n",
       "<table border=\"1\" class=\"dataframe\">\n",
       "  <thead>\n",
       "    <tr style=\"text-align: right;\">\n",
       "      <th></th>\n",
       "      <th>job</th>\n",
       "      <th>marital</th>\n",
       "      <th>education</th>\n",
       "      <th>default</th>\n",
       "      <th>housing</th>\n",
       "      <th>loan</th>\n",
       "      <th>contact</th>\n",
       "      <th>month</th>\n",
       "      <th>y</th>\n",
       "    </tr>\n",
       "  </thead>\n",
       "  <tbody>\n",
       "    <tr>\n",
       "      <th>0</th>\n",
       "      <td>management</td>\n",
       "      <td>married</td>\n",
       "      <td>tertiary</td>\n",
       "      <td>no</td>\n",
       "      <td>yes</td>\n",
       "      <td>no</td>\n",
       "      <td>unknown</td>\n",
       "      <td>may</td>\n",
       "      <td>no</td>\n",
       "    </tr>\n",
       "    <tr>\n",
       "      <th>1</th>\n",
       "      <td>technician</td>\n",
       "      <td>single</td>\n",
       "      <td>secondary</td>\n",
       "      <td>no</td>\n",
       "      <td>yes</td>\n",
       "      <td>no</td>\n",
       "      <td>unknown</td>\n",
       "      <td>may</td>\n",
       "      <td>no</td>\n",
       "    </tr>\n",
       "    <tr>\n",
       "      <th>2</th>\n",
       "      <td>entrepreneur</td>\n",
       "      <td>married</td>\n",
       "      <td>secondary</td>\n",
       "      <td>no</td>\n",
       "      <td>yes</td>\n",
       "      <td>yes</td>\n",
       "      <td>unknown</td>\n",
       "      <td>may</td>\n",
       "      <td>no</td>\n",
       "    </tr>\n",
       "    <tr>\n",
       "      <th>3</th>\n",
       "      <td>blue-collar</td>\n",
       "      <td>married</td>\n",
       "      <td>unknown</td>\n",
       "      <td>no</td>\n",
       "      <td>yes</td>\n",
       "      <td>no</td>\n",
       "      <td>unknown</td>\n",
       "      <td>may</td>\n",
       "      <td>no</td>\n",
       "    </tr>\n",
       "    <tr>\n",
       "      <th>4</th>\n",
       "      <td>unknown</td>\n",
       "      <td>single</td>\n",
       "      <td>unknown</td>\n",
       "      <td>no</td>\n",
       "      <td>no</td>\n",
       "      <td>no</td>\n",
       "      <td>unknown</td>\n",
       "      <td>may</td>\n",
       "      <td>no</td>\n",
       "    </tr>\n",
       "  </tbody>\n",
       "</table>\n",
       "</div>"
      ],
      "text/plain": [
       "            job  marital  education default housing loan  contact month   y\n",
       "0    management  married   tertiary      no     yes   no  unknown   may  no\n",
       "1    technician   single  secondary      no     yes   no  unknown   may  no\n",
       "2  entrepreneur  married  secondary      no     yes  yes  unknown   may  no\n",
       "3   blue-collar  married    unknown      no     yes   no  unknown   may  no\n",
       "4       unknown   single    unknown      no      no   no  unknown   may  no"
      ]
     },
     "metadata": {},
     "output_type": "display_data"
    }
   ],
   "source": [
    "def show_categorical_col(df):\n",
    "    category_features = df.select_dtypes(['object']).columns.values\n",
    "    print(f'There are {len(category_features)} categorical features in the dataset.')\n",
    "    print(f'The categorical features are {category_features}')\n",
    "    display(df[category_features].head())\n",
    "    return category_features\n",
    "category_features = show_categorical_col(df)"
   ]
  },
  {
   "cell_type": "markdown",
   "id": "bb39f587",
   "metadata": {},
   "source": [
    "Now let's examine the individual categorical columns. We will define a function to help us explore a particular column."
   ]
  },
  {
   "cell_type": "code",
   "execution_count": 8,
   "id": "486c8df6",
   "metadata": {
    "ExecuteTime": {
     "end_time": "2023-07-10T22:59:27.028359Z",
     "start_time": "2023-07-10T22:59:27.025154Z"
    }
   },
   "outputs": [],
   "source": [
    "def explore_categorical(df, col):\n",
    "    # Display information of a column if it is categorical\n",
    "    if df[col].dtypes == 'object':\n",
    "        unique_cat = len(df[col].unique())\n",
    "        print(f'Column Name: {col} \\n{20*\"-\"}')\n",
    "        print(f'Feature {col} has {unique_cat} unique categories\\n')\n",
    "        print(df[col].value_counts(normalize=True))\n",
    "        plt.figure(figsize=(10, 1.2*unique_cat))\n",
    "        sns.countplot(y=col, data=df, order = df[col].value_counts().index, color=\"#58508d\")\n",
    "        plt.show()\n",
    "        print()"
   ]
  },
  {
   "cell_type": "markdown",
   "id": "04dd97c6",
   "metadata": {},
   "source": [
    "#### Preprocessing `y` (target variable)"
   ]
  },
  {
   "cell_type": "markdown",
   "id": "65bc9cfa",
   "metadata": {},
   "source": [
    "Firstly let's take a look at the target variable `y`."
   ]
  },
  {
   "cell_type": "code",
   "execution_count": 9,
   "id": "d05583a4",
   "metadata": {
    "ExecuteTime": {
     "end_time": "2023-07-10T22:59:27.109665Z",
     "start_time": "2023-07-10T22:59:27.035121Z"
    }
   },
   "outputs": [
    {
     "name": "stdout",
     "output_type": "stream",
     "text": [
      "Column Name: y \n",
      "--------------------\n",
      "Feature y has 2 unique categories\n",
      "\n",
      "no     0.9276\n",
      "yes    0.0724\n",
      "Name: y, dtype: float64\n"
     ]
    },
    {
     "data": {
      "image/png": "[encoded data removed]",
      "text/plain": [
       "<Figure size 720x172.8 with 1 Axes>"
      ]
     },
     "metadata": {
      "needs_background": "light"
     },
     "output_type": "display_data"
    },
    {
     "name": "stdout",
     "output_type": "stream",
     "text": [
      "\n"
     ]
    }
   ],
   "source": [
    "explore_categorical(df, 'y')"
   ]
  },
  {
   "cell_type": "markdown",
   "id": "b565b492",
   "metadata": {},
   "source": [
    "92.76% of the customer are not subscribed to a term deposit and only 7.24% of them did. The classes are not balanced and we need to address this issue. Accuracy will unlikely to be a good metric when designing our model and we would need to consider the other metrics for evaluation.\n",
    "\n",
    "We will map `y` into a binary variable with 0 for no and 1 for yes."
   ]
  },
  {
   "cell_type": "code",
   "execution_count": 10,
   "id": "53148fde",
   "metadata": {
    "ExecuteTime": {
     "end_time": "2023-07-10T22:59:27.116376Z",
     "start_time": "2023-07-10T22:59:27.110773Z"
    }
   },
   "outputs": [],
   "source": [
    "df['y'] = df['y'].map({'no':0, 'yes':1})"
   ]
  },
  {
   "cell_type": "markdown",
   "id": "47aa1d91",
   "metadata": {},
   "source": [
    "#### Preprocessing `job`"
   ]
  },
  {
   "cell_type": "code",
   "execution_count": 11,
   "id": "bfbf3cb6",
   "metadata": {
    "ExecuteTime": {
     "end_time": "2023-07-10T22:59:27.227533Z",
     "start_time": "2023-07-10T22:59:27.117360Z"
    },
    "scrolled": true
   },
   "outputs": [
    {
     "name": "stdout",
     "output_type": "stream",
     "text": [
      "Column Name: job \n",
      "--------------------\n",
      "Feature job has 12 unique categories\n",
      "\n",
      "blue-collar      0.234575\n",
      "management       0.204150\n",
      "technician       0.171300\n",
      "admin            0.112075\n",
      "services         0.097750\n",
      "retired          0.035925\n",
      "self-employed    0.035350\n",
      "entrepreneur     0.035125\n",
      "unemployed       0.027600\n",
      "housemaid        0.027175\n",
      "student          0.013100\n",
      "unknown          0.005875\n",
      "Name: job, dtype: float64\n"
     ]
    },
    {
     "data": {
      "image/png": "[encoded data removed]",
      "text/plain": [
       "<Figure size 720x1036.8 with 1 Axes>"
      ]
     },
     "metadata": {
      "needs_background": "light"
     },
     "output_type": "display_data"
    },
    {
     "name": "stdout",
     "output_type": "stream",
     "text": [
      "\n"
     ]
    }
   ],
   "source": [
    "explore_categorical(df, 'job')"
   ]
  },
  {
   "cell_type": "markdown",
   "id": "e6e6b47d",
   "metadata": {},
   "source": [
    "The majority of the customers work as `blue-collar`, `management` and `technician`, taking up 23.46%, 20.42 and 17.13% of the total customer base respectively. There are to the lesser extent, `admin` and `services` workers, at 11.2% and 9.78%.\n",
    "\n",
    "The rest of the job types only accounts for about 18% of the population. The job types with lower population are typically short on deposit funds, which could be explanation of why they do not make up the majority of the business. There are also 0.58% of customers with unknown job types. We can group these job types into one single category called `others`."
   ]
  },
  {
   "cell_type": "code",
   "execution_count": 12,
   "id": "4e7d7337",
   "metadata": {
    "ExecuteTime": {
     "end_time": "2023-07-10T22:59:27.233979Z",
     "start_time": "2023-07-10T22:59:27.228421Z"
    }
   },
   "outputs": [],
   "source": [
    "job_types = ['blue-collar', 'management', 'technician', 'admin', 'services']\n",
    "df['job'] = np.where(df['job'].isin(job_types), df['job'], 'others')"
   ]
  },
  {
   "cell_type": "markdown",
   "id": "a202fef7",
   "metadata": {},
   "source": [
    "#### Preprocessing `marital`"
   ]
  },
  {
   "cell_type": "code",
   "execution_count": 13,
   "id": "2c7ddc5d",
   "metadata": {
    "ExecuteTime": {
     "end_time": "2023-07-10T22:59:27.304486Z",
     "start_time": "2023-07-10T22:59:27.235321Z"
    }
   },
   "outputs": [
    {
     "name": "stdout",
     "output_type": "stream",
     "text": [
      "Column Name: marital \n",
      "--------------------\n",
      "Feature marital has 3 unique categories\n",
      "\n",
      "married     0.609650\n",
      "single      0.272225\n",
      "divorced    0.118125\n",
      "Name: marital, dtype: float64\n"
     ]
    },
    {
     "data": {
      "image/png": "[encoded data removed]",
      "text/plain": [
       "<Figure size 720x259.2 with 1 Axes>"
      ]
     },
     "metadata": {
      "needs_background": "light"
     },
     "output_type": "display_data"
    },
    {
     "name": "stdout",
     "output_type": "stream",
     "text": [
      "\n"
     ]
    }
   ],
   "source": [
    "explore_categorical(df, 'marital')"
   ]
  },
  {
   "cell_type": "markdown",
   "id": "e757b6a1",
   "metadata": {},
   "source": [
    "72.8% of the customers are either married or divorced, in comparison to only 27.2% of the customer who are single. This indicates that the majority of the customers are middle-aged or beyond."
   ]
  },
  {
   "cell_type": "markdown",
   "id": "dcf0841b",
   "metadata": {},
   "source": [
    "#### Preprocessing `education`"
   ]
  },
  {
   "cell_type": "code",
   "execution_count": 14,
   "id": "8401d11a",
   "metadata": {
    "ExecuteTime": {
     "end_time": "2023-07-10T22:59:27.385511Z",
     "start_time": "2023-07-10T22:59:27.305474Z"
    }
   },
   "outputs": [
    {
     "name": "stdout",
     "output_type": "stream",
     "text": [
      "Column Name: education \n",
      "--------------------\n",
      "Feature education has 4 unique categories\n",
      "\n",
      "secondary    0.524825\n",
      "tertiary     0.280150\n",
      "primary      0.156750\n",
      "unknown      0.038275\n",
      "Name: education, dtype: float64\n"
     ]
    },
    {
     "data": {
      "image/png": "[encoded data removed]",
      "text/plain": [
       "<Figure size 720x345.6 with 1 Axes>"
      ]
     },
     "metadata": {
      "needs_background": "light"
     },
     "output_type": "display_data"
    },
    {
     "name": "stdout",
     "output_type": "stream",
     "text": [
      "\n"
     ]
    }
   ],
   "source": [
    "explore_categorical(df, 'education')"
   ]
  },
  {
   "cell_type": "markdown",
   "id": "e3bd7d66",
   "metadata": {},
   "source": [
    "52.48% of the customers have completed a secondary education. 28% of the customers have completed post-secondary eduction whereas 15.68% of the customers only have completed a primary education. There are 3.8% of the customers with unknown education background. We can lump these in together with `secondary`."
   ]
  },
  {
   "cell_type": "code",
   "execution_count": 15,
   "id": "99f4edd0",
   "metadata": {
    "ExecuteTime": {
     "end_time": "2023-07-10T22:59:27.392280Z",
     "start_time": "2023-07-10T22:59:27.386384Z"
    }
   },
   "outputs": [],
   "source": [
    "df.loc[df['education']=='unknown', 'education'] = 'secondary'"
   ]
  },
  {
   "cell_type": "markdown",
   "id": "b9840a76",
   "metadata": {},
   "source": [
    "#### Preprocessing `default`"
   ]
  },
  {
   "cell_type": "code",
   "execution_count": 16,
   "id": "f2b8895b",
   "metadata": {
    "ExecuteTime": {
     "end_time": "2023-07-10T22:59:27.462903Z",
     "start_time": "2023-07-10T22:59:27.393154Z"
    }
   },
   "outputs": [
    {
     "name": "stdout",
     "output_type": "stream",
     "text": [
      "Column Name: default \n",
      "--------------------\n",
      "Feature default has 2 unique categories\n",
      "\n",
      "no     0.979775\n",
      "yes    0.020225\n",
      "Name: default, dtype: float64\n"
     ]
    },
    {
     "data": {
      "image/png": "[encoded data removed]",
      "text/plain": [
       "<Figure size 720x172.8 with 1 Axes>"
      ]
     },
     "metadata": {
      "needs_background": "light"
     },
     "output_type": "display_data"
    },
    {
     "name": "stdout",
     "output_type": "stream",
     "text": [
      "\n"
     ]
    }
   ],
   "source": [
    "explore_categorical(df, 'default')"
   ]
  },
  {
   "cell_type": "markdown",
   "id": "48d0273b",
   "metadata": {},
   "source": [
    "The overwhelmingly majority of 98% of the customer do not have credit in default whereas 2% only them do. We might consider dropping this column since the categories are heavily imbalanced.\n",
    "\n",
    "We should firstly verify that `default` is not contributing a lot to the classification."
   ]
  },
  {
   "cell_type": "code",
   "execution_count": 17,
   "id": "edf3112b",
   "metadata": {
    "ExecuteTime": {
     "end_time": "2023-07-10T22:59:27.468640Z",
     "start_time": "2023-07-10T22:59:27.463862Z"
    }
   },
   "outputs": [
    {
     "data": {
      "text/plain": [
       "no     39191\n",
       "yes      809\n",
       "Name: default, dtype: int64"
      ]
     },
     "execution_count": 17,
     "metadata": {},
     "output_type": "execute_result"
    }
   ],
   "source": [
    "df['default'].value_counts()"
   ]
  },
  {
   "cell_type": "code",
   "execution_count": 18,
   "id": "c7f77504",
   "metadata": {
    "ExecuteTime": {
     "end_time": "2023-07-10T22:59:27.476505Z",
     "start_time": "2023-07-10T22:59:27.469592Z"
    }
   },
   "outputs": [
    {
     "data": {
      "text/plain": [
       "0    760\n",
       "1     49\n",
       "Name: y, dtype: int64"
      ]
     },
     "execution_count": 18,
     "metadata": {},
     "output_type": "execute_result"
    }
   ],
   "source": [
    "df[df['default']=='yes']['y'].value_counts()"
   ]
  },
  {
   "cell_type": "markdown",
   "id": "93f025bb",
   "metadata": {},
   "source": [
    "Out of 809 customers without credit in default, only 49 of them are subscribed to a term deposit, which is similar to the ratio of the class distribution. Therefore, it should be safe to conclude that `default` is not key factor in classifying `y` and can be removed."
   ]
  },
  {
   "cell_type": "code",
   "execution_count": 19,
   "id": "067c6776",
   "metadata": {
    "ExecuteTime": {
     "end_time": "2023-07-10T22:59:27.483124Z",
     "start_time": "2023-07-10T22:59:27.477488Z"
    }
   },
   "outputs": [],
   "source": [
    "df.drop('default', axis=1, inplace=True)"
   ]
  },
  {
   "cell_type": "markdown",
   "id": "23adf26e",
   "metadata": {},
   "source": [
    "#### Preprocessing `housing` and `loan`"
   ]
  },
  {
   "cell_type": "code",
   "execution_count": 20,
   "id": "a5f4f2ec",
   "metadata": {
    "ExecuteTime": {
     "end_time": "2023-07-10T22:59:27.673727Z",
     "start_time": "2023-07-10T22:59:27.484046Z"
    }
   },
   "outputs": [
    {
     "name": "stdout",
     "output_type": "stream",
     "text": [
      "Column Name: housing \n",
      "--------------------\n",
      "Feature housing has 2 unique categories\n",
      "\n",
      "yes    0.600775\n",
      "no     0.399225\n",
      "Name: housing, dtype: float64\n"
     ]
    },
    {
     "data": {
      "image/png": "[encoded data removed]",
      "text/plain": [
       "<Figure size 720x172.8 with 1 Axes>"
      ]
     },
     "metadata": {
      "needs_background": "light"
     },
     "output_type": "display_data"
    },
    {
     "name": "stdout",
     "output_type": "stream",
     "text": [
      "\n"
     ]
    }
   ],
   "source": [
    "explore_categorical(df, 'housing')"
   ]
  },
  {
   "cell_type": "markdown",
   "id": "33c4686a",
   "metadata": {},
   "source": [
    "60% of the customers have a housing loan and 40% of them do not."
   ]
  },
  {
   "cell_type": "code",
   "execution_count": 21,
   "id": "55154f31",
   "metadata": {
    "ExecuteTime": {
     "end_time": "2023-07-10T22:59:27.740547Z",
     "start_time": "2023-07-10T22:59:27.674589Z"
    }
   },
   "outputs": [
    {
     "name": "stdout",
     "output_type": "stream",
     "text": [
      "Column Name: loan \n",
      "--------------------\n",
      "Feature loan has 2 unique categories\n",
      "\n",
      "no     0.82675\n",
      "yes    0.17325\n",
      "Name: loan, dtype: float64\n"
     ]
    },
    {
     "data": {
      "image/png": "[encoded data removed]",
      "text/plain": [
       "<Figure size 720x172.8 with 1 Axes>"
      ]
     },
     "metadata": {
      "needs_background": "light"
     },
     "output_type": "display_data"
    },
    {
     "name": "stdout",
     "output_type": "stream",
     "text": [
      "\n"
     ]
    }
   ],
   "source": [
    "explore_categorical(df, 'loan')"
   ]
  },
  {
   "cell_type": "markdown",
   "id": "66947dff",
   "metadata": {},
   "source": [
    "82.7% of the customers do not have a personal loan and 17.3% of them do. The distribution are not similar to the distribution of `housing`.\n",
    "\n",
    "We will map `housing` and `loan` into a binary variable with 0 for no and 1 for yes."
   ]
  },
  {
   "cell_type": "code",
   "execution_count": 22,
   "id": "bcaf9138",
   "metadata": {
    "ExecuteTime": {
     "end_time": "2023-07-10T22:59:27.750588Z",
     "start_time": "2023-07-10T22:59:27.741534Z"
    }
   },
   "outputs": [],
   "source": [
    "df['housing'] = df['housing'].map({'no': 0, 'yes': 1})\n",
    "df['loan'] = df['loan'].map({'no': 0, 'yes': 1})"
   ]
  },
  {
   "cell_type": "markdown",
   "id": "66d2bfb7",
   "metadata": {},
   "source": [
    "#### Preprocessing `contact`"
   ]
  },
  {
   "cell_type": "code",
   "execution_count": 23,
   "id": "fd39d9b6",
   "metadata": {
    "ExecuteTime": {
     "end_time": "2023-07-10T22:59:27.819668Z",
     "start_time": "2023-07-10T22:59:27.751441Z"
    }
   },
   "outputs": [
    {
     "name": "stdout",
     "output_type": "stream",
     "text": [
      "Column Name: contact \n",
      "--------------------\n",
      "Feature contact has 3 unique categories\n",
      "\n",
      "cellular     0.622850\n",
      "unknown      0.319125\n",
      "telephone    0.058025\n",
      "Name: contact, dtype: float64\n"
     ]
    },
    {
     "data": {
      "image/png": "[encoded data removed]",
      "text/plain": [
       "<Figure size 720x259.2 with 1 Axes>"
      ]
     },
     "metadata": {
      "needs_background": "light"
     },
     "output_type": "display_data"
    },
    {
     "name": "stdout",
     "output_type": "stream",
     "text": [
      "\n"
     ]
    }
   ],
   "source": [
    "explore_categorical(df, 'contact')"
   ]
  },
  {
   "cell_type": "markdown",
   "id": "696d9f42",
   "metadata": {},
   "source": [
    "The majority of the customers at 62.3% uses cellular to make communication and only 5.8% of the customers uses telephone. There are 31.9% of customer with unknown communication method. \n",
    "\n",
    "We make the argument that it is reasonable to combine `unknown` and `telephone` since the bank does not explicitly know that the customer uses cellular as the communication method. We can store the new information into a column called `use_cellular`"
   ]
  },
  {
   "cell_type": "code",
   "execution_count": 24,
   "id": "f9a59dc6",
   "metadata": {
    "ExecuteTime": {
     "end_time": "2023-07-10T22:59:27.828638Z",
     "start_time": "2023-07-10T22:59:27.820882Z"
    }
   },
   "outputs": [],
   "source": [
    "df['use_cellular'] = df['contact'].map({'cellular': 1, 'unknown': 0, 'telephone': 0})\n",
    "df.drop('contact', axis=1, inplace=True)"
   ]
  },
  {
   "cell_type": "markdown",
   "id": "bddbec9d",
   "metadata": {},
   "source": [
    "#### Preprocessing `month`"
   ]
  },
  {
   "cell_type": "code",
   "execution_count": 25,
   "id": "2434fdbb",
   "metadata": {
    "ExecuteTime": {
     "end_time": "2023-07-10T22:59:27.934454Z",
     "start_time": "2023-07-10T22:59:27.829722Z"
    },
    "scrolled": true
   },
   "outputs": [
    {
     "name": "stdout",
     "output_type": "stream",
     "text": [
      "Column Name: month \n",
      "--------------------\n",
      "Feature month has 11 unique categories\n",
      "\n",
      "may    0.338300\n",
      "jul    0.159500\n",
      "aug    0.130375\n",
      "jun    0.118350\n",
      "nov    0.089950\n",
      "apr    0.067950\n",
      "feb    0.057400\n",
      "jan    0.029400\n",
      "mar    0.006450\n",
      "oct    0.002000\n",
      "dec    0.000325\n",
      "Name: month, dtype: float64\n"
     ]
    },
    {
     "data": {
      "image/png": "[encoded data removed]",
      "text/plain": [
       "<Figure size 720x950.4 with 1 Axes>"
      ]
     },
     "metadata": {
      "needs_background": "light"
     },
     "output_type": "display_data"
    },
    {
     "name": "stdout",
     "output_type": "stream",
     "text": [
      "\n"
     ]
    }
   ],
   "source": [
    "explore_categorical(df, 'month')"
   ]
  },
  {
   "cell_type": "markdown",
   "id": "35c350ce",
   "metadata": {},
   "source": [
    "33.8% of the customers made the last contact in May and there are rarely any customer last contacted in October and December, at 0.2% and 0.03% respectively. Maybe there existed some customer searching campaign during the early to mid summer.\n",
    "\n",
    "One option is to group the month into quarters."
   ]
  },
  {
   "cell_type": "code",
   "execution_count": 26,
   "id": "92f498ea",
   "metadata": {
    "ExecuteTime": {
     "end_time": "2023-07-10T22:59:27.943066Z",
     "start_time": "2023-07-10T22:59:27.935572Z"
    }
   },
   "outputs": [],
   "source": [
    "df['quarter'] = pd.to_datetime(df['month'], format='%b').dt.quarter"
   ]
  },
  {
   "cell_type": "code",
   "execution_count": 27,
   "id": "9352aa30",
   "metadata": {
    "ExecuteTime": {
     "end_time": "2023-07-10T22:59:28.007526Z",
     "start_time": "2023-07-10T22:59:27.947949Z"
    }
   },
   "outputs": [
    {
     "data": {
      "image/png": "[encoded data removed]",
      "text/plain": [
       "<Figure size 432x288 with 1 Axes>"
      ]
     },
     "metadata": {
      "needs_background": "light"
     },
     "output_type": "display_data"
    }
   ],
   "source": [
    "df['quarter'].value_counts().sort_index().plot(kind='bar')\n",
    "plt.show()"
   ]
  },
  {
   "cell_type": "markdown",
   "id": "8e067ca3",
   "metadata": {},
   "source": [
    "Interesting to note above, very little contact happened during Q1 and Q4. The majority of the contacts were made in the second quarter with a sharp decline in Q3."
   ]
  },
  {
   "cell_type": "markdown",
   "id": "074f9c20",
   "metadata": {},
   "source": [
    "Also, since majority of the last contacts happened in May, July, August and June, we could consider these months `heavy_months` and create a binary feature to decide if the last call happened in a heavy month."
   ]
  },
  {
   "cell_type": "code",
   "execution_count": 28,
   "id": "d67f0280",
   "metadata": {
    "ExecuteTime": {
     "end_time": "2023-07-10T22:59:28.012846Z",
     "start_time": "2023-07-10T22:59:28.008425Z"
    }
   },
   "outputs": [],
   "source": [
    "heavy_months = ['may', 'jul', 'aug', 'jun']\n",
    "df['heavy_months'] = 0\n",
    "df.loc[df['month'].isin(heavy_months), 'heavy_months'] = 1"
   ]
  },
  {
   "cell_type": "code",
   "execution_count": 29,
   "id": "870b0400",
   "metadata": {
    "ExecuteTime": {
     "end_time": "2023-07-10T22:59:28.018620Z",
     "start_time": "2023-07-10T22:59:28.013671Z"
    }
   },
   "outputs": [],
   "source": [
    "df.drop('month', axis=1, inplace=True)"
   ]
  },
  {
   "cell_type": "markdown",
   "id": "79212ff8",
   "metadata": {},
   "source": [
    "After processing all the categorical columns, we can go back to numerical columns."
   ]
  },
  {
   "cell_type": "markdown",
   "id": "6fc53b3d",
   "metadata": {},
   "source": [
    "### Preprocessing Numerical Features"
   ]
  },
  {
   "cell_type": "markdown",
   "id": "fb7bfe36",
   "metadata": {},
   "source": [
    "Similar to the categorical columns, we will define a function to help visualize the numerical columns."
   ]
  },
  {
   "cell_type": "code",
   "execution_count": 30,
   "id": "d562aaad",
   "metadata": {
    "ExecuteTime": {
     "end_time": "2023-07-10T22:59:28.022947Z",
     "start_time": "2023-07-10T22:59:28.019582Z"
    }
   },
   "outputs": [],
   "source": [
    "def explore_numerical(df, col):\n",
    "    if df[col].dtypes in ['int', 'float']:\n",
    "        print(f'Column Name: {col} \\n{20*\"-\"}')\n",
    "        print(f'minimum value: {df[col].min()}')\n",
    "        print(f'median value: {df[col].median()}')\n",
    "        print(f'maximum value: {df[col].max()}')\n",
    "        print(f'mean value: {df[col].mean()}')\n",
    "        plt.figure(figsize=(7.5, 7.5))\n",
    "        sns.boxplot(y=col, data=df, color=\"#58508d\")\n",
    "        plt.show()\n",
    "        print()"
   ]
  },
  {
   "cell_type": "markdown",
   "id": "2c3226e6",
   "metadata": {},
   "source": [
    "#### Preprocessing `balance`"
   ]
  },
  {
   "cell_type": "code",
   "execution_count": 31,
   "id": "21701887",
   "metadata": {
    "ExecuteTime": {
     "end_time": "2023-07-10T22:59:28.081761Z",
     "start_time": "2023-07-10T22:59:28.023833Z"
    }
   },
   "outputs": [
    {
     "name": "stdout",
     "output_type": "stream",
     "text": [
      "Column Name: balance \n",
      "--------------------\n",
      "minimum value: -8019\n",
      "median value: 407.0\n",
      "maximum value: 102127\n",
      "mean value: 1274.27755\n"
     ]
    },
    {
     "data": {
      "image/png": "[encoded data removed]",
      "text/plain": [
       "<Figure size 540x540 with 1 Axes>"
      ]
     },
     "metadata": {
      "needs_background": "light"
     },
     "output_type": "display_data"
    },
    {
     "name": "stdout",
     "output_type": "stream",
     "text": [
      "\n"
     ]
    }
   ],
   "source": [
    "explore_numerical(df, 'balance')"
   ]
  },
  {
   "cell_type": "markdown",
   "id": "7b299966",
   "metadata": {},
   "source": [
    "It seems that the majority of the account balance are below 2000 but the highest balance goes up to 102127."
   ]
  },
  {
   "cell_type": "markdown",
   "id": "c8b7f42d",
   "metadata": {},
   "source": [
    "#### Preprocessing `campaign`"
   ]
  },
  {
   "cell_type": "code",
   "execution_count": 32,
   "id": "88b7e054",
   "metadata": {
    "ExecuteTime": {
     "end_time": "2023-07-10T22:59:28.140053Z",
     "start_time": "2023-07-10T22:59:28.082791Z"
    }
   },
   "outputs": [
    {
     "name": "stdout",
     "output_type": "stream",
     "text": [
      "Column Name: campaign \n",
      "--------------------\n",
      "minimum value: 1\n",
      "median value: 2.0\n",
      "maximum value: 63\n",
      "mean value: 2.882175\n"
     ]
    },
    {
     "data": {
      "image/png": "[encoded data removed]",
      "text/plain": [
       "<Figure size 540x540 with 1 Axes>"
      ]
     },
     "metadata": {
      "needs_background": "light"
     },
     "output_type": "display_data"
    },
    {
     "name": "stdout",
     "output_type": "stream",
     "text": [
      "\n"
     ]
    }
   ],
   "source": [
    "explore_numerical(df, 'campaign')"
   ]
  },
  {
   "cell_type": "markdown",
   "id": "6b93a8eb",
   "metadata": {},
   "source": [
    "It appears that over half of the data points belongs in campaign 1 and 2. Let's take a deeper look into the specific distribution of the data."
   ]
  },
  {
   "cell_type": "code",
   "execution_count": 33,
   "id": "e8a06403",
   "metadata": {
    "ExecuteTime": {
     "end_time": "2023-07-10T22:59:28.144897Z",
     "start_time": "2023-07-10T22:59:28.141014Z"
    },
    "scrolled": true
   },
   "outputs": [
    {
     "data": {
      "text/plain": [
       "1     14718\n",
       "2     11153\n",
       "3      4970\n",
       "4      3297\n",
       "5      1642\n",
       "6      1228\n",
       "7       699\n",
       "8       526\n",
       "9       318\n",
       "10      262\n",
       "11      197\n",
       "12      154\n",
       "13      131\n",
       "14       93\n",
       "15       83\n",
       "16       78\n",
       "17       69\n",
       "18       51\n",
       "19       44\n",
       "20       43\n",
       "21       35\n",
       "22       23\n",
       "25       22\n",
       "23       22\n",
       "24       20\n",
       "29       16\n",
       "28       16\n",
       "26       13\n",
       "31       12\n",
       "27       10\n",
       "32        9\n",
       "30        8\n",
       "33        6\n",
       "34        5\n",
       "36        4\n",
       "35        4\n",
       "43        3\n",
       "38        3\n",
       "37        2\n",
       "50        2\n",
       "41        2\n",
       "46        1\n",
       "58        1\n",
       "55        1\n",
       "63        1\n",
       "51        1\n",
       "39        1\n",
       "44        1\n",
       "Name: campaign, dtype: int64"
      ]
     },
     "execution_count": 33,
     "metadata": {},
     "output_type": "execute_result"
    }
   ],
   "source": [
    "df['campaign'].value_counts()"
   ]
  },
  {
   "cell_type": "markdown",
   "id": "32ad6fc3",
   "metadata": {},
   "source": [
    "The campaign 1 and 2 makes up the majority of the data. We categorize the values as `1`, `2` and `others` as the values are not statistically semantic."
   ]
  },
  {
   "cell_type": "code",
   "execution_count": 34,
   "id": "b010a2a6",
   "metadata": {
    "ExecuteTime": {
     "end_time": "2023-07-10T22:59:28.157880Z",
     "start_time": "2023-07-10T22:59:28.145818Z"
    }
   },
   "outputs": [],
   "source": [
    "df['campaign'] = np.where(df['campaign'].isin([1,2]), df['campaign'].apply(lambda x: str(x)), 'others')"
   ]
  },
  {
   "cell_type": "markdown",
   "id": "91768c19",
   "metadata": {},
   "source": [
    "#### Preprocessing `day`"
   ]
  },
  {
   "cell_type": "code",
   "execution_count": 35,
   "id": "e3b58436",
   "metadata": {
    "ExecuteTime": {
     "end_time": "2023-07-10T22:59:28.212425Z",
     "start_time": "2023-07-10T22:59:28.158885Z"
    },
    "scrolled": true
   },
   "outputs": [
    {
     "name": "stdout",
     "output_type": "stream",
     "text": [
      "Column Name: day \n",
      "--------------------\n",
      "minimum value: 1\n",
      "median value: 17.0\n",
      "maximum value: 31\n",
      "mean value: 16.017225\n"
     ]
    },
    {
     "data": {
      "image/png": "[encoded data removed]",
      "text/plain": [
       "<Figure size 540x540 with 1 Axes>"
      ]
     },
     "metadata": {
      "needs_background": "light"
     },
     "output_type": "display_data"
    },
    {
     "name": "stdout",
     "output_type": "stream",
     "text": [
      "\n"
     ]
    }
   ],
   "source": [
    "explore_numerical(df, 'day')"
   ]
  },
  {
   "cell_type": "markdown",
   "id": "b01fd23e",
   "metadata": {},
   "source": [
    "Since the `day` value is unlikely to contribute to the classification, we will drop it from the dataset."
   ]
  },
  {
   "cell_type": "code",
   "execution_count": 36,
   "id": "4ec7ec3a",
   "metadata": {
    "ExecuteTime": {
     "end_time": "2023-07-10T22:59:28.219102Z",
     "start_time": "2023-07-10T22:59:28.213449Z"
    }
   },
   "outputs": [],
   "source": [
    "df.drop('day', axis=1, inplace=True)"
   ]
  },
  {
   "cell_type": "markdown",
   "id": "1ffdcd78",
   "metadata": {},
   "source": [
    "### Create dummy df\n",
    "\n",
    "Now that we are done preprocessing the columns, we can transfer the df into a dummy df."
   ]
  },
  {
   "cell_type": "code",
   "execution_count": 37,
   "id": "22fdf94b",
   "metadata": {
    "ExecuteTime": {
     "end_time": "2023-07-10T22:59:28.237190Z",
     "start_time": "2023-07-10T22:59:28.220140Z"
    }
   },
   "outputs": [],
   "source": [
    "dummy_df = pd.get_dummies(df)"
   ]
  },
  {
   "cell_type": "code",
   "execution_count": 38,
   "id": "00e515b6",
   "metadata": {
    "ExecuteTime": {
     "end_time": "2023-07-10T22:59:28.245966Z",
     "start_time": "2023-07-10T22:59:28.238419Z"
    }
   },
   "outputs": [
    {
     "name": "stdout",
     "output_type": "stream",
     "text": [
      "<class 'pandas.core.frame.DataFrame'>\n",
      "RangeIndex: 40000 entries, 0 to 39999\n",
      "Data columns (total 24 columns):\n",
      " #   Column               Non-Null Count  Dtype\n",
      "---  ------               --------------  -----\n",
      " 0   age                  40000 non-null  int64\n",
      " 1   balance              40000 non-null  int64\n",
      " 2   housing              40000 non-null  int64\n",
      " 3   loan                 40000 non-null  int64\n",
      " 4   duration             40000 non-null  int64\n",
      " 5   y                    40000 non-null  int64\n",
      " 6   use_cellular         40000 non-null  int64\n",
      " 7   quarter              40000 non-null  int64\n",
      " 8   heavy_months         40000 non-null  int64\n",
      " 9   job_admin            40000 non-null  uint8\n",
      " 10  job_blue-collar      40000 non-null  uint8\n",
      " 11  job_management       40000 non-null  uint8\n",
      " 12  job_others           40000 non-null  uint8\n",
      " 13  job_services         40000 non-null  uint8\n",
      " 14  job_technician       40000 non-null  uint8\n",
      " 15  marital_divorced     40000 non-null  uint8\n",
      " 16  marital_married      40000 non-null  uint8\n",
      " 17  marital_single       40000 non-null  uint8\n",
      " 18  education_primary    40000 non-null  uint8\n",
      " 19  education_secondary  40000 non-null  uint8\n",
      " 20  education_tertiary   40000 non-null  uint8\n",
      " 21  campaign_1           40000 non-null  uint8\n",
      " 22  campaign_2           40000 non-null  uint8\n",
      " 23  campaign_others      40000 non-null  uint8\n",
      "dtypes: int64(9), uint8(15)\n",
      "memory usage: 3.3 MB\n"
     ]
    }
   ],
   "source": [
    "dummy_df.info()"
   ]
  },
  {
   "cell_type": "markdown",
   "id": "2dd96ce9",
   "metadata": {},
   "source": [
    "Now that we have the dummy df constructed, let's examine if there is any columns highly correlated with each other."
   ]
  },
  {
   "cell_type": "code",
   "execution_count": 39,
   "id": "50e4d36d",
   "metadata": {
    "ExecuteTime": {
     "end_time": "2023-07-10T22:59:28.908706Z",
     "start_time": "2023-07-10T22:59:28.246834Z"
    },
    "scrolled": false
   },
   "outputs": [
    {
     "data": {
      "image/png": "[encoded data removed]",
      "text/plain": [
       "<Figure size 1440x1440 with 2 Axes>"
      ]
     },
     "metadata": {
      "needs_background": "light"
     },
     "output_type": "display_data"
    }
   ],
   "source": [
    "def visualize_correlation(X):\n",
    "\n",
    "    # calculate all the correlations between each of the independent variables\n",
    "    corr_df = X.corr()\n",
    "\n",
    "    # mask\n",
    "    mask = np.triu(corr_df)\n",
    "\n",
    "\n",
    "    # heatmap\n",
    "    plt.figure(figsize=(20, 20))\n",
    "    sns.heatmap(corr_df.round(2), vmax=1, vmin=-1, center=0, annot=True, mask=mask, cmap='coolwarm')\n",
    "visualize_correlation(dummy_df.drop('y', axis=1))"
   ]
  },
  {
   "cell_type": "markdown",
   "id": "de532993",
   "metadata": {},
   "source": [
    "For the purpose of this analysis, we will use a correlation threshold of 0.8 to decide if two features are highly correlated. From the correlation heatmap above, we can see that `marital_single`, `marital_married` has a correlation of -0.76, and `education_teritary`, `education_secondary` has a correlation of -0.71. These two pairs has relatively high correlation but since they are still below our threshold by a little, we will keep them in the dataset."
   ]
  },
  {
   "cell_type": "markdown",
   "id": "1341ce97",
   "metadata": {},
   "source": [
    "### Saving the processed dataset"
   ]
  },
  {
   "cell_type": "markdown",
   "id": "4ba90424",
   "metadata": {},
   "source": [
    "We will save the processed dataset as `tdm_preprocessed.csv` under the `data` folder."
   ]
  },
  {
   "cell_type": "code",
   "execution_count": 40,
   "id": "1c38b50e",
   "metadata": {
    "ExecuteTime": {
     "end_time": "2023-07-10T22:59:29.042099Z",
     "start_time": "2023-07-10T22:59:28.909617Z"
    }
   },
   "outputs": [],
   "source": [
    "dummy_df.to_csv('./data/tdm_preprocessed.csv')"
   ]
  },
  {
   "cell_type": "markdown",
   "id": "1b8790f8",
   "metadata": {},
   "source": [
    "## Modeling"
   ]
  },
  {
   "cell_type": "markdown",
   "id": "2f33fa09",
   "metadata": {},
   "source": [
    "Now that we are done with preprocessing the data, we can now move on to fitting some models to the data and get a intuition of ideal model. We might still consider removing some features if we find any features are not as important in the backward selection process."
   ]
  },
  {
   "cell_type": "markdown",
   "id": "21f357ec",
   "metadata": {},
   "source": [
    "### Balancing the classes"
   ]
  },
  {
   "cell_type": "markdown",
   "id": "e8aeeb7b",
   "metadata": {},
   "source": [
    "As we saw in the data wrangling section, 92.76% of our customers are not subscribed to a term deposit and belong to class 0, whereas only 7.24% of customers belong to class 1. This indicates strong imbalance between the classes and it will affect the performance of our models and our evaluation of them. We will combine the following methods to tackle the class imbalance issue:\n",
    "- Downsampling the majority class 0\n",
    "- Upsampling the minority class 1\n",
    "- Consider F1 score instead of accuracy as the main evaluation metric."
   ]
  },
  {
   "cell_type": "code",
   "execution_count": 41,
   "id": "3aa7b2c6",
   "metadata": {
    "ExecuteTime": {
     "end_time": "2023-07-10T22:59:29.051484Z",
     "start_time": "2023-07-10T22:59:29.043018Z"
    }
   },
   "outputs": [],
   "source": [
    "# Preparing the training and testing dataset\n",
    "from sklearn.model_selection import train_test_split\n",
    "\n",
    "X = dummy_df.drop(columns=\"y\")\n",
    "y = dummy_df[\"y\"]\n",
    "\n",
    "X_train, X_test, y_train, y_test = train_test_split(X, y, test_size = 0.3, random_state=1)"
   ]
  },
  {
   "cell_type": "code",
   "execution_count": 42,
   "id": "b6872c4b",
   "metadata": {
    "ExecuteTime": {
     "end_time": "2023-07-10T22:59:29.071448Z",
     "start_time": "2023-07-10T22:59:29.052427Z"
    }
   },
   "outputs": [
    {
     "name": "stdout",
     "output_type": "stream",
     "text": [
      "Number of class 0 examples before: 25954\n",
      "Number of class 0 examples after: 18167\n",
      "Number of class 1 examples before: 2046\n",
      "Number of class 1 examples after: 6138\n",
      "Total number of examples:  24305\n"
     ]
    }
   ],
   "source": [
    "from sklearn.utils import resample\n",
    "\n",
    "# Downsampling class 0\n",
    "print('Number of class 0 examples before:', X_train[y_train == 0].shape[0])\n",
    "\n",
    "X_downsampled, y_downsampled = resample(X_train[y_train == 0], \n",
    "                                        y_train[y_train == 0], \n",
    "                                        replace=True, \n",
    "                                        n_samples=int(X_train[y_train == 0].shape[0]*0.7), \n",
    "                                        random_state=123)\n",
    "print('Number of class 0 examples after:', X_downsampled.shape[0])\n",
    "\n",
    "# Upsampling class 1\n",
    "print('Number of class 1 examples before:', X_train[y_train == 1].shape[0])\n",
    "\n",
    "X_upsampled, y_upsampled = resample(X_train[y_train == 1], \n",
    "                                        y_train[y_train == 1], \n",
    "                                        replace=True, \n",
    "                                        n_samples=X_train[y_train == 1].shape[0]*3, \n",
    "                                        random_state=123)\n",
    "print('Number of class 1 examples after:', X_upsampled.shape[0])\n",
    "\n",
    "# Combining the data\n",
    "X_train_bal = np.vstack((X_downsampled, X_upsampled))\n",
    "y_train_bal = np.hstack((y_downsampled, y_upsampled))\n",
    "\n",
    "print('Total number of examples: ', X_train_bal.shape[0])"
   ]
  },
  {
   "cell_type": "markdown",
   "id": "be57959b",
   "metadata": {},
   "source": [
    "With a mix of downsampling and upsampling technique, we are able to generate a more balanced training dataset consists of 24305 examples, with 18167 entries of class 0 and 6138 entries of class 1.\n",
    "\n",
    "Note that even after resampling, the dataset is still imbalanced:"
   ]
  },
  {
   "cell_type": "code",
   "execution_count": 43,
   "id": "fe108989",
   "metadata": {
    "ExecuteTime": {
     "end_time": "2023-07-10T22:59:29.074809Z",
     "start_time": "2023-07-10T22:59:29.072407Z"
    }
   },
   "outputs": [
    {
     "name": "stdout",
     "output_type": "stream",
     "text": [
      "Class 0 / Class 1 Ratio: 2.9597588791137177\n"
     ]
    }
   ],
   "source": [
    "zero_one_ratio = 18167/6138\n",
    "print(f'Class 0 / Class 1 Ratio: {zero_one_ratio}')"
   ]
  },
  {
   "cell_type": "markdown",
   "id": "3335d2e1",
   "metadata": {},
   "source": [
    "### Normalization"
   ]
  },
  {
   "cell_type": "markdown",
   "id": "3ae60327",
   "metadata": {},
   "source": [
    "To make sure the distance based models like KNN would have a reasonable performance on the data, we will normalize the data before fitting the models."
   ]
  },
  {
   "cell_type": "code",
   "execution_count": 44,
   "id": "18750e8e",
   "metadata": {
    "ExecuteTime": {
     "end_time": "2023-07-10T22:59:29.098408Z",
     "start_time": "2023-07-10T22:59:29.080780Z"
    }
   },
   "outputs": [
    {
     "name": "stderr",
     "output_type": "stream",
     "text": [
      "/Users/baiyumo/opt/anaconda3/lib/python3.9/site-packages/sklearn/base.py:457: UserWarning: X has feature names, but StandardScaler was fitted without feature names\n",
      "  warnings.warn(\n"
     ]
    }
   ],
   "source": [
    "from sklearn.preprocessing import StandardScaler\n",
    "\n",
    "# Normalizing the balanced training data\n",
    "ss = StandardScaler()\n",
    "X_train_bal = ss.fit_transform(X_train_bal)\n",
    "X_test = ss.transform(X_test)"
   ]
  },
  {
   "cell_type": "markdown",
   "id": "00891960",
   "metadata": {},
   "source": [
    "### Model Selection"
   ]
  },
  {
   "cell_type": "markdown",
   "id": "2adc8e7b",
   "metadata": {},
   "source": [
    "Now we can start fitting some models."
   ]
  },
  {
   "cell_type": "code",
   "execution_count": 45,
   "id": "62d06c70",
   "metadata": {
    "ExecuteTime": {
     "end_time": "2023-07-10T23:00:16.563534Z",
     "start_time": "2023-07-10T22:59:29.099382Z"
    },
    "scrolled": true
   },
   "outputs": [
    {
     "name": "stdout",
     "output_type": "stream",
     "text": [
      "logreg training accuracy: 0.849043406706439\n",
      "logreg testing accuracy: 0.91875\n",
      "\n",
      "SVC training accuracy: 0.9050401152026332\n",
      "SVC testing accuracy: 0.9149166666666667\n",
      "\n",
      "KNN training accuracy: 0.9269697593087842\n",
      "KNN testing accuracy: 0.92325\n",
      "\n",
      "RF training accuracy: 0.9397243365562642\n",
      "RF testing accuracy: 0.8773333333333333\n",
      "\n",
      "Ada training accuracy: 0.859411643694713\n",
      "Ada testing accuracy: 0.9103333333333333\n",
      "\n",
      "XGB training accuracy: 0.9674552561201399\n",
      "XGB testing accuracy: 0.9183333333333333\n",
      "\n"
     ]
    }
   ],
   "source": [
    "model_candidates = [LogisticRegression(random_state=22), SVC(random_state=22), \n",
    "                    RandomForestClassifier(max_depth=10, random_state=22),\n",
    "                    KNeighborsClassifier(), \n",
    "                    AdaBoostClassifier(random_state=22), \n",
    "                    xgb.XGBClassifier(random_state=22)]\n",
    "model_names = ['logreg', 'SVC', 'KNN', 'RF', 'Ada', 'XGB']\n",
    "\n",
    "for i, model in enumerate(model_candidates):\n",
    "    model.fit(X_train_bal, y_train_bal)\n",
    "    print(f'{model_names[i]} training accuracy: {model.score(X_train_bal, y_train_bal)}')\n",
    "    print(f'{model_names[i]} testing accuracy: {model.score(X_test, y_test)}')\n",
    "    print()"
   ]
  },
  {
   "cell_type": "markdown",
   "id": "b033f792",
   "metadata": {},
   "source": [
    "All of our models performed reasonably well on the training and testing set with beyond 85% accuracy. But considering the strong imbalance in the testing set, we would have to pick the model that have the best performance on the minority class in the test set, which is class 1. We will check out the confusion matrix and the classification report to gain more insight and choose the best model."
   ]
  },
  {
   "cell_type": "code",
   "execution_count": 52,
   "id": "c26469a1",
   "metadata": {
    "ExecuteTime": {
     "end_time": "2023-07-10T23:06:40.686993Z",
     "start_time": "2023-07-10T23:06:40.673527Z"
    }
   },
   "outputs": [],
   "source": [
    "from sklearn.metrics import confusion_matrix, classification_report, ConfusionMatrixDisplay\n",
    "\n",
    "def show_confusion_matrix_and_report(model_name, model, X_train, y_train, X_test, y_test):\n",
    "    print_line = '\\n----------------------------------\\n'\n",
    "    \n",
    "    print(f\"Confusion matrices: {model_name}\", print_line)\n",
    "\n",
    "    fig, axes = plt.subplots(1, 2, figsize=(10, 3))\n",
    "\n",
    "    # Model on the training data\n",
    "    ConfusionMatrixDisplay.from_estimator(model, X_train, y_train, ax=axes[0])\n",
    "    axes[0].set_title('Confusion Matrix: Training')\n",
    "\n",
    "    # Model on the testing data\n",
    "    ConfusionMatrixDisplay.from_estimator(model, X_test, y_test, ax=axes[1])\n",
    "    axes[1].set_title('Confusion Matrix: Testing')\n",
    "    \n",
    "    plt.show()\n",
    "    \n",
    "    model_pred_train = model.predict(X_train)\n",
    "    model_pred_test = model.predict(X_test)\n",
    "    \n",
    "    report_train = classification_report(y_train, model_pred_train)\n",
    "    report_test = classification_report(y_test, model_pred_test)\n",
    "    \n",
    "    print(\"\\nTraining data classification report:\", print_line, report_train)\n",
    "    print(\"\\nTesting data classification report:\", print_line, report_test)"
   ]
  },
  {
   "cell_type": "code",
   "execution_count": 53,
   "id": "f2b62a68",
   "metadata": {
    "ExecuteTime": {
     "end_time": "2023-07-10T23:07:44.484537Z",
     "start_time": "2023-07-10T23:06:42.032007Z"
    },
    "scrolled": true
   },
   "outputs": [
    {
     "name": "stdout",
     "output_type": "stream",
     "text": [
      "Confusion matrices: logreg \n",
      "----------------------------------\n",
      "\n"
     ]
    },
    {
     "data": {
      "image/png": "[encoded data removed]",
      "text/plain": [
       "<Figure size 720x216 with 4 Axes>"
      ]
     },
     "metadata": {
      "needs_background": "light"
     },
     "output_type": "display_data"
    },
    {
     "name": "stdout",
     "output_type": "stream",
     "text": [
      "\n",
      "Training data classification report: \n",
      "----------------------------------\n",
      "               precision    recall  f1-score   support\n",
      "\n",
      "           0       0.87      0.94      0.90     18167\n",
      "           1       0.77      0.57      0.66      6138\n",
      "\n",
      "    accuracy                           0.85     24305\n",
      "   macro avg       0.82      0.76      0.78     24305\n",
      "weighted avg       0.84      0.85      0.84     24305\n",
      "\n",
      "\n",
      "Testing data classification report: \n",
      "----------------------------------\n",
      "               precision    recall  f1-score   support\n",
      "\n",
      "           0       0.97      0.95      0.96     11150\n",
      "           1       0.44      0.56      0.49       850\n",
      "\n",
      "    accuracy                           0.92     12000\n",
      "   macro avg       0.70      0.75      0.72     12000\n",
      "weighted avg       0.93      0.92      0.92     12000\n",
      "\n",
      "Confusion matrices: SVC \n",
      "----------------------------------\n",
      "\n"
     ]
    },
    {
     "data": {
      "image/png": "[encoded data removed]",
      "text/plain": [
       "<Figure size 720x216 with 4 Axes>"
      ]
     },
     "metadata": {
      "needs_background": "light"
     },
     "output_type": "display_data"
    },
    {
     "name": "stdout",
     "output_type": "stream",
     "text": [
      "\n",
      "Training data classification report: \n",
      "----------------------------------\n",
      "               precision    recall  f1-score   support\n",
      "\n",
      "           0       0.93      0.94      0.94     18167\n",
      "           1       0.82      0.80      0.81      6138\n",
      "\n",
      "    accuracy                           0.91     24305\n",
      "   macro avg       0.88      0.87      0.87     24305\n",
      "weighted avg       0.90      0.91      0.90     24305\n",
      "\n",
      "\n",
      "Testing data classification report: \n",
      "----------------------------------\n",
      "               precision    recall  f1-score   support\n",
      "\n",
      "           0       0.97      0.93      0.95     11150\n",
      "           1       0.43      0.66      0.52       850\n",
      "\n",
      "    accuracy                           0.91     12000\n",
      "   macro avg       0.70      0.80      0.74     12000\n",
      "weighted avg       0.94      0.91      0.92     12000\n",
      "\n",
      "Confusion matrices: KNN \n",
      "----------------------------------\n",
      "\n"
     ]
    },
    {
     "data": {
      "image/png": "[encoded data removed]",
      "text/plain": [
       "<Figure size 720x216 with 4 Axes>"
      ]
     },
     "metadata": {
      "needs_background": "light"
     },
     "output_type": "display_data"
    },
    {
     "name": "stdout",
     "output_type": "stream",
     "text": [
      "\n",
      "Training data classification report: \n",
      "----------------------------------\n",
      "               precision    recall  f1-score   support\n",
      "\n",
      "           0       0.94      0.96      0.95     18167\n",
      "           1       0.89      0.82      0.85      6138\n",
      "\n",
      "    accuracy                           0.93     24305\n",
      "   macro avg       0.91      0.89      0.90     24305\n",
      "weighted avg       0.93      0.93      0.93     24305\n",
      "\n",
      "\n",
      "Testing data classification report: \n",
      "----------------------------------\n",
      "               precision    recall  f1-score   support\n",
      "\n",
      "           0       0.97      0.95      0.96     11150\n",
      "           1       0.47      0.63      0.54       850\n",
      "\n",
      "    accuracy                           0.92     12000\n",
      "   macro avg       0.72      0.79      0.75     12000\n",
      "weighted avg       0.94      0.92      0.93     12000\n",
      "\n",
      "Confusion matrices: RF \n",
      "----------------------------------\n",
      "\n"
     ]
    },
    {
     "data": {
      "image/png": "[encoded data removed]",
      "text/plain": [
       "<Figure size 720x216 with 4 Axes>"
      ]
     },
     "metadata": {
      "needs_background": "light"
     },
     "output_type": "display_data"
    },
    {
     "name": "stdout",
     "output_type": "stream",
     "text": [
      "\n",
      "Training data classification report: \n",
      "----------------------------------\n",
      "               precision    recall  f1-score   support\n",
      "\n",
      "           0       0.97      0.95      0.96     18167\n",
      "           1       0.85      0.92      0.89      6138\n",
      "\n",
      "    accuracy                           0.94     24305\n",
      "   macro avg       0.91      0.93      0.92     24305\n",
      "weighted avg       0.94      0.94      0.94     24305\n",
      "\n",
      "\n",
      "Testing data classification report: \n",
      "----------------------------------\n",
      "               precision    recall  f1-score   support\n",
      "\n",
      "           0       0.96      0.91      0.93     11150\n",
      "           1       0.28      0.48      0.35       850\n",
      "\n",
      "    accuracy                           0.88     12000\n",
      "   macro avg       0.62      0.69      0.64     12000\n",
      "weighted avg       0.91      0.88      0.89     12000\n",
      "\n",
      "Confusion matrices: Ada \n",
      "----------------------------------\n",
      "\n"
     ]
    },
    {
     "data": {
      "image/png": "[encoded data removed]",
      "text/plain": [
       "<Figure size 720x216 with 4 Axes>"
      ]
     },
     "metadata": {
      "needs_background": "light"
     },
     "output_type": "display_data"
    },
    {
     "name": "stdout",
     "output_type": "stream",
     "text": [
      "\n",
      "Training data classification report: \n",
      "----------------------------------\n",
      "               precision    recall  f1-score   support\n",
      "\n",
      "           0       0.89      0.93      0.91     18167\n",
      "           1       0.76      0.65      0.70      6138\n",
      "\n",
      "    accuracy                           0.86     24305\n",
      "   macro avg       0.82      0.79      0.80     24305\n",
      "weighted avg       0.85      0.86      0.86     24305\n",
      "\n",
      "\n",
      "Testing data classification report: \n",
      "----------------------------------\n",
      "               precision    recall  f1-score   support\n",
      "\n",
      "           0       0.97      0.93      0.95     11150\n",
      "           1       0.41      0.63      0.50       850\n",
      "\n",
      "    accuracy                           0.91     12000\n",
      "   macro avg       0.69      0.78      0.72     12000\n",
      "weighted avg       0.93      0.91      0.92     12000\n",
      "\n",
      "Confusion matrices: XGB \n",
      "----------------------------------\n",
      "\n"
     ]
    },
    {
     "data": {
      "image/png": "[encoded data removed]",
      "text/plain": [
       "<Figure size 720x216 with 4 Axes>"
      ]
     },
     "metadata": {
      "needs_background": "light"
     },
     "output_type": "display_data"
    },
    {
     "name": "stdout",
     "output_type": "stream",
     "text": [
      "\n",
      "Training data classification report: \n",
      "----------------------------------\n",
      "               precision    recall  f1-score   support\n",
      "\n",
      "           0       0.98      0.97      0.98     18167\n",
      "           1       0.93      0.95      0.94      6138\n",
      "\n",
      "    accuracy                           0.97     24305\n",
      "   macro avg       0.95      0.96      0.96     24305\n",
      "weighted avg       0.97      0.97      0.97     24305\n",
      "\n",
      "\n",
      "Testing data classification report: \n",
      "----------------------------------\n",
      "               precision    recall  f1-score   support\n",
      "\n",
      "           0       0.97      0.94      0.96     11150\n",
      "           1       0.45      0.65      0.53       850\n",
      "\n",
      "    accuracy                           0.92     12000\n",
      "   macro avg       0.71      0.79      0.74     12000\n",
      "weighted avg       0.94      0.92      0.93     12000\n",
      "\n"
     ]
    }
   ],
   "source": [
    "for i, model in enumerate(model_candidates):\n",
    "    show_confusion_matrix_and_report(model_names[i], model, \n",
    "                                    X_train_bal, y_train_bal, X_test, y_test)"
   ]
  },
  {
   "cell_type": "markdown",
   "id": "03f4587b",
   "metadata": {},
   "source": [
    "Out of all the models, KNN has a f1-score for class 1 in the testing data that is slightly better than the others at 0.54. It is followed by XGBoost which has a f1-score of 0.55. LogisticRegression model appears to be underfitting the training data although performing well on the testing data so it makes a good candidate as well.\n",
    "\n",
    "We will see if we could further improve these two models by hyperparameter tuning."
   ]
  },
  {
   "cell_type": "markdown",
   "id": "6c04faa7",
   "metadata": {},
   "source": [
    "### Hyperparameter tuning"
   ]
  },
  {
   "cell_type": "code",
   "execution_count": 54,
   "id": "5c5ebe63",
   "metadata": {
    "ExecuteTime": {
     "end_time": "2023-07-10T23:07:45.650117Z",
     "start_time": "2023-07-10T23:07:44.731882Z"
    }
   },
   "outputs": [
    {
     "data": {
      "image/png": "[encoded data removed]",
      "text/plain": [
       "<Figure size 432x288 with 1 Axes>"
      ]
     },
     "metadata": {
      "needs_background": "light"
     },
     "output_type": "display_data"
    }
   ],
   "source": [
    "from sklearn.model_selection import cross_val_score\n",
    "\n",
    "# tuning Logreg C\n",
    "Cs = [0.001, 0.01, 0.1, 1, 10, 100]\n",
    "train_scores = []\n",
    "test_scores = []\n",
    "cv_scores = []\n",
    "\n",
    "for C in Cs:\n",
    "    logreg = LogisticRegression(C=C)\n",
    "    cv_scores.append(np.mean(cross_val_score(logreg, X_train_bal, y_train_bal, cv=5)))\n",
    "    logreg.fit(X_train_bal, y_train_bal)\n",
    "    train_scores.append(logreg.score(X_train_bal, y_train_bal))\n",
    "    test_scores.append(logreg.score(X_test, y_test))\n",
    "    \n",
    "plt.figure()\n",
    "plt.plot(Cs, train_scores, label='Train')\n",
    "plt.plot(Cs, test_scores, label='Test')\n",
    "plt.plot(Cs, cv_scores, label='Cross Validation')\n",
    "plt.title('Logreg C vs Accuracy')\n",
    "plt.xlabel('C')\n",
    "plt.ylabel('Accuracy')\n",
    "plt.xscale('log')\n",
    "plt.grid()\n",
    "plt.legend()\n",
    "plt.show()"
   ]
  },
  {
   "cell_type": "markdown",
   "id": "46335aca",
   "metadata": {},
   "source": [
    "Looks like the default value for C is optimal. Since the resampled training dataset is still a bit imbalanced. We can assign the class weights to get a more balanced model."
   ]
  },
  {
   "cell_type": "code",
   "execution_count": 55,
   "id": "e757c4fa",
   "metadata": {
    "ExecuteTime": {
     "end_time": "2023-07-10T23:07:45.840475Z",
     "start_time": "2023-07-10T23:07:45.650972Z"
    }
   },
   "outputs": [
    {
     "name": "stdout",
     "output_type": "stream",
     "text": [
      "Confusion matrices: logreg \n",
      "----------------------------------\n",
      "\n"
     ]
    },
    {
     "data": {
      "image/png": "[encoded data removed]",
      "text/plain": [
       "<Figure size 720x216 with 4 Axes>"
      ]
     },
     "metadata": {
      "needs_background": "light"
     },
     "output_type": "display_data"
    },
    {
     "name": "stdout",
     "output_type": "stream",
     "text": [
      "\n",
      "Training data classification report: \n",
      "----------------------------------\n",
      "               precision    recall  f1-score   support\n",
      "\n",
      "           0       0.93      0.85      0.89     18167\n",
      "           1       0.65      0.82      0.73      6138\n",
      "\n",
      "    accuracy                           0.84     24305\n",
      "   macro avg       0.79      0.84      0.81     24305\n",
      "weighted avg       0.86      0.84      0.85     24305\n",
      "\n",
      "\n",
      "Testing data classification report: \n",
      "----------------------------------\n",
      "               precision    recall  f1-score   support\n",
      "\n",
      "           0       0.98      0.86      0.92     11150\n",
      "           1       0.30      0.82      0.44       850\n",
      "\n",
      "    accuracy                           0.85     12000\n",
      "   macro avg       0.64      0.84      0.68     12000\n",
      "weighted avg       0.94      0.85      0.88     12000\n",
      "\n"
     ]
    }
   ],
   "source": [
    "logreg = LogisticRegression(class_weight={0:1, 1:zero_one_ratio})\n",
    "logreg.fit(X_train_bal, y_train_bal)\n",
    "show_confusion_matrix_and_report('logreg', logreg, X_train_bal, y_train_bal, X_test, y_test)"
   ]
  },
  {
   "cell_type": "markdown",
   "id": "2764c515",
   "metadata": {},
   "source": [
    "By assigning a higher class weight to the minority class, the model emphasizes more on class 1 comparing to the baseline logreg model. The f1-score dropped from 0.49 to 0.44, but the recall score increased from 0.56 to 0.82, if we are more interested about finding more potential term deposit subscribers, we should use the balanced model over the baseline model."
   ]
  },
  {
   "cell_type": "code",
   "execution_count": 56,
   "id": "4f08fad6",
   "metadata": {
    "ExecuteTime": {
     "end_time": "2023-07-10T23:07:45.844048Z",
     "start_time": "2023-07-10T23:07:45.841306Z"
    }
   },
   "outputs": [
    {
     "data": {
      "text/plain": [
       "array([-0.53479678])"
      ]
     },
     "execution_count": 56,
     "metadata": {},
     "output_type": "execute_result"
    }
   ],
   "source": [
    "logreg.intercept_"
   ]
  },
  {
   "cell_type": "code",
   "execution_count": 57,
   "id": "54383fbd",
   "metadata": {
    "ExecuteTime": {
     "end_time": "2023-07-10T23:08:09.682999Z",
     "start_time": "2023-07-10T23:07:45.845044Z"
    }
   },
   "outputs": [
    {
     "data": {
      "image/png": "[encoded data removed]",
      "text/plain": [
       "<Figure size 432x288 with 1 Axes>"
      ]
     },
     "metadata": {
      "needs_background": "light"
     },
     "output_type": "display_data"
    }
   ],
   "source": [
    "# tuning KNN\n",
    "ns = np.arange(1,11)\n",
    "train_scores = []\n",
    "test_scores = []\n",
    "cv_scores = []\n",
    "\n",
    "for n in ns:\n",
    "    knn = KNeighborsClassifier(n_neighbors=n)\n",
    "    cv_scores.append(np.mean(cross_val_score(knn, X_train_bal, y_train_bal, cv=5)))\n",
    "    knn.fit(X_train_bal, y_train_bal)\n",
    "    train_scores.append(knn.score(X_train_bal, y_train_bal))\n",
    "    test_scores.append(knn.score(X_test, y_test))\n",
    "    \n",
    "plt.figure()\n",
    "plt.plot(ns, train_scores, label='Train')\n",
    "plt.plot(ns, test_scores, label='Test')\n",
    "plt.plot(ns, cv_scores, label='Cross Validation')\n",
    "plt.title('KNN N nearest neighbors vs Accuracy')\n",
    "plt.xlabel('N nearest neighbors')\n",
    "plt.ylabel('Accuracy')\n",
    "plt.grid()\n",
    "plt.legend()\n",
    "plt.show()"
   ]
  },
  {
   "cell_type": "markdown",
   "id": "192e69b8",
   "metadata": {},
   "source": [
    "By increasing the number of nearest neighbors, we gradually reduce the overfitting and with `n_neighbors` set to 8, the training and testing accuracy become very close. So we will finalize our KNN model with `n_neighbors=8`. \n",
    "\n",
    "Let's take a look at its confusion matrix and classification report."
   ]
  },
  {
   "cell_type": "code",
   "execution_count": 58,
   "id": "e3658d67",
   "metadata": {
    "ExecuteTime": {
     "end_time": "2023-07-10T23:08:13.012515Z",
     "start_time": "2023-07-10T23:08:09.683874Z"
    }
   },
   "outputs": [
    {
     "name": "stdout",
     "output_type": "stream",
     "text": [
      "Confusion matrices: knn(n_neighbors=8) \n",
      "----------------------------------\n",
      "\n"
     ]
    },
    {
     "data": {
      "image/png": "[encoded data removed]",
      "text/plain": [
       "<Figure size 720x216 with 4 Axes>"
      ]
     },
     "metadata": {
      "needs_background": "light"
     },
     "output_type": "display_data"
    },
    {
     "name": "stdout",
     "output_type": "stream",
     "text": [
      "\n",
      "Training data classification report: \n",
      "----------------------------------\n",
      "               precision    recall  f1-score   support\n",
      "\n",
      "           0       0.91      0.96      0.94     18167\n",
      "           1       0.86      0.73      0.79      6138\n",
      "\n",
      "    accuracy                           0.90     24305\n",
      "   macro avg       0.89      0.85      0.86     24305\n",
      "weighted avg       0.90      0.90      0.90     24305\n",
      "\n",
      "\n",
      "Testing data classification report: \n",
      "----------------------------------\n",
      "               precision    recall  f1-score   support\n",
      "\n",
      "           0       0.95      0.93      0.94     11150\n",
      "           1       0.32      0.40      0.35       850\n",
      "\n",
      "    accuracy                           0.90     12000\n",
      "   macro avg       0.63      0.67      0.65     12000\n",
      "weighted avg       0.91      0.90      0.90     12000\n",
      "\n"
     ]
    }
   ],
   "source": [
    "knn_final = KNeighborsClassifier(n_neighbors=8)\n",
    "knn_final.fit(X_train_bal, y_train_bal)\n",
    "\n",
    "show_confusion_matrix_and_report('knn(n_neighbors=8)', knn_final, X_train_bal, y_train_bal,\n",
    "                                X_test, y_test)"
   ]
  },
  {
   "cell_type": "markdown",
   "id": "7b40570d",
   "metadata": {},
   "source": [
    "The tuned KNN model has 84% testing accuracy on the test set and a f1-score of 0.35. The model has a much higher recall for class 1 of 0.40 than precision of 0.32."
   ]
  },
  {
   "cell_type": "code",
   "execution_count": 59,
   "id": "97a3849d",
   "metadata": {
    "ExecuteTime": {
     "end_time": "2023-07-10T23:09:00.638966Z",
     "start_time": "2023-07-10T23:08:13.013290Z"
    }
   },
   "outputs": [
    {
     "data": {
      "image/png": "[encoded data removed]",
      "text/plain": [
       "<Figure size 432x288 with 1 Axes>"
      ]
     },
     "metadata": {
      "needs_background": "light"
     },
     "output_type": "display_data"
    }
   ],
   "source": [
    "# Tuning XGBoost max_depth\n",
    "depths = np.arange(1,10)\n",
    "train_scores = []\n",
    "test_scores = []\n",
    "cv_scores = []\n",
    "\n",
    "for depth in depths:\n",
    "    xgb_model = xgb.XGBClassifier(max_depth=depth, random_state=22)\n",
    "    cv_scores.append(np.mean(cross_val_score(xgb_model, X_train_bal, y_train_bal, cv=5)))\n",
    "    xgb_model.fit(X_train_bal, y_train_bal)\n",
    "    train_scores.append(xgb_model.score(X_train_bal, y_train_bal))\n",
    "    test_scores.append(xgb_model.score(X_test, y_test))\n",
    "    \n",
    "plt.figure()\n",
    "plt.plot(depths, train_scores, label='Train')\n",
    "plt.plot(depths, test_scores, label='Test')\n",
    "plt.plot(depths, cv_scores, label='Cross Validation')\n",
    "plt.title('XGB Max Depth vs Accuracy')\n",
    "plt.xlabel('Max Depth')\n",
    "plt.ylabel('Accuracy')\n",
    "plt.grid()\n",
    "plt.legend()\n",
    "plt.show()"
   ]
  },
  {
   "cell_type": "code",
   "execution_count": 60,
   "id": "d8b402b0",
   "metadata": {
    "ExecuteTime": {
     "end_time": "2023-07-10T23:09:34.613573Z",
     "start_time": "2023-07-10T23:09:00.639916Z"
    }
   },
   "outputs": [
    {
     "data": {
      "image/png": "[encoded data removed]",
      "text/plain": [
       "<Figure size 432x288 with 1 Axes>"
      ]
     },
     "metadata": {
      "needs_background": "light"
     },
     "output_type": "display_data"
    }
   ],
   "source": [
    "# Tuning XGBoost max_depth\n",
    "ns = [10, 20, 50, 100, 150, 200]\n",
    "train_scores = []\n",
    "test_scores = []\n",
    "cv_scores = []\n",
    "\n",
    "for n in ns:\n",
    "    xgb_model = xgb.XGBClassifier(n_estimators=n, max_depth=6,\n",
    "                                 random_state=22)\n",
    "    cv_scores.append(np.mean(cross_val_score(xgb_model, X_train_bal, y_train_bal, cv=5)))\n",
    "    xgb_model.fit(X_train_bal, y_train_bal)\n",
    "    train_scores.append(xgb_model.score(X_train_bal, y_train_bal))\n",
    "    test_scores.append(xgb_model.score(X_test, y_test))\n",
    "    \n",
    "plt.figure()\n",
    "plt.plot(ns, train_scores, label='Train')\n",
    "plt.plot(ns, test_scores, label='Test')\n",
    "plt.plot(ns, cv_scores, label='Cross Validation')\n",
    "plt.title('XGB n_estimators vs Accuracy')\n",
    "plt.xlabel('n')\n",
    "plt.ylabel('Accuracy')\n",
    "plt.grid()\n",
    "plt.legend()\n",
    "plt.show()"
   ]
  },
  {
   "cell_type": "code",
   "execution_count": 61,
   "id": "feb8ebb1",
   "metadata": {
    "ExecuteTime": {
     "end_time": "2023-07-10T23:10:01.114621Z",
     "start_time": "2023-07-10T23:09:34.614687Z"
    }
   },
   "outputs": [
    {
     "data": {
      "image/png": "[encoded data removed]",
      "text/plain": [
       "<Figure size 432x288 with 1 Axes>"
      ]
     },
     "metadata": {
      "needs_background": "light"
     },
     "output_type": "display_data"
    }
   ],
   "source": [
    "# Tuning XGBoost max_leaf\n",
    "n_leaves = np.arange(1,41,5)\n",
    "train_scores = []\n",
    "test_scores = []\n",
    "cv_scores = []\n",
    "\n",
    "for n in n_leaves:\n",
    "    xgb_model = xgb.XGBClassifier(n_estimators=50, max_depth=6, max_leaves=n,\n",
    "                                 random_state=22)\n",
    "    cv_scores.append(np.mean(cross_val_score(xgb_model, X_train_bal, y_train_bal, cv=5)))\n",
    "    xgb_model.fit(X_train_bal, y_train_bal)\n",
    "    train_scores.append(xgb_model.score(X_train_bal, y_train_bal))\n",
    "    test_scores.append(xgb_model.score(X_test, y_test))\n",
    "    \n",
    "plt.figure()\n",
    "plt.plot(n_leaves, train_scores, label='Train')\n",
    "plt.plot(n_leaves, test_scores, label='Test')\n",
    "plt.plot(n_leaves, cv_scores, label='Cross Validation')\n",
    "plt.title('XGB max_leaves vs Accuracy')\n",
    "plt.xlabel('n')\n",
    "plt.ylabel('Accuracy')\n",
    "plt.grid()\n",
    "plt.legend()\n",
    "plt.show()"
   ]
  },
  {
   "cell_type": "markdown",
   "id": "b470f7e3",
   "metadata": {},
   "source": [
    "Seems like our XGBoost model performs the best with `n_estimators=100` and `max_depths=7`. The `max_leaves` parameter did not make any difference. We will create the final xgb model and checkout its confusion matrix and classification report."
   ]
  },
  {
   "cell_type": "code",
   "execution_count": 62,
   "id": "369a6bae",
   "metadata": {
    "ExecuteTime": {
     "end_time": "2023-07-10T23:10:01.920622Z",
     "start_time": "2023-07-10T23:10:01.115690Z"
    }
   },
   "outputs": [
    {
     "name": "stdout",
     "output_type": "stream",
     "text": [
      "[19:10:01] WARNING: /Users/runner/work/xgboost/xgboost/python-package/build/temp.macosx-10.9-x86_64-cpython-38/xgboost/src/learner.cc:767: \n",
      "Parameters: { \"max_depths\" } are not used.\n",
      "\n",
      "Confusion matrices: Tuned XGB model \n",
      "----------------------------------\n",
      "\n"
     ]
    },
    {
     "data": {
      "image/png": "[encoded data removed]",
      "text/plain": [
       "<Figure size 720x216 with 4 Axes>"
      ]
     },
     "metadata": {
      "needs_background": "light"
     },
     "output_type": "display_data"
    },
    {
     "name": "stdout",
     "output_type": "stream",
     "text": [
      "\n",
      "Training data classification report: \n",
      "----------------------------------\n",
      "               precision    recall  f1-score   support\n",
      "\n",
      "           0       0.97      0.96      0.96     18167\n",
      "           1       0.88      0.90      0.89      6138\n",
      "\n",
      "    accuracy                           0.94     24305\n",
      "   macro avg       0.92      0.93      0.93     24305\n",
      "weighted avg       0.94      0.94      0.94     24305\n",
      "\n",
      "\n",
      "Testing data classification report: \n",
      "----------------------------------\n",
      "               precision    recall  f1-score   support\n",
      "\n",
      "           0       0.98      0.93      0.95     11150\n",
      "           1       0.44      0.69      0.53       850\n",
      "\n",
      "    accuracy                           0.92     12000\n",
      "   macro avg       0.71      0.81      0.74     12000\n",
      "weighted avg       0.94      0.92      0.92     12000\n",
      "\n"
     ]
    }
   ],
   "source": [
    "xgb_tuned = xgb.XGBClassifier(n_estimators=50, max_depths=6,random_state=22)\n",
    "xgb_tuned.fit(X_train_bal, y_train_bal)\n",
    "show_confusion_matrix_and_report('Tuned XGB model', xgb_tuned, X_train_bal, y_train_bal,\n",
    "                                X_test, y_test)"
   ]
  },
  {
   "cell_type": "markdown",
   "id": "dfc3959f",
   "metadata": {},
   "source": [
    "Our tuned XGBoost model has 94% training accuracy and 92% testing accuracy and f1-score of 0.53 for class 1. It performed better than our KNN model. Thought we have different class distribution for the training and testing set, we could argue that the model is overfitting the training data.\n",
    "\n",
    "Similar to the logreg, we can also emphasize finding the potential term deposit subscribers more by tuning the `scale_pos_weight` parameter."
   ]
  },
  {
   "cell_type": "code",
   "execution_count": 63,
   "id": "c470379d",
   "metadata": {
    "ExecuteTime": {
     "end_time": "2023-07-10T23:10:02.714731Z",
     "start_time": "2023-07-10T23:10:01.921554Z"
    },
    "scrolled": false
   },
   "outputs": [
    {
     "name": "stdout",
     "output_type": "stream",
     "text": [
      "[19:10:01] WARNING: /Users/runner/work/xgboost/xgboost/python-package/build/temp.macosx-10.9-x86_64-cpython-38/xgboost/src/learner.cc:767: \n",
      "Parameters: { \"max_depths\" } are not used.\n",
      "\n",
      "Confusion matrices: tuned XGB model with class weight \n",
      "----------------------------------\n",
      "\n"
     ]
    },
    {
     "data": {
      "image/png": "[encoded data removed]",
      "text/plain": [
       "<Figure size 720x216 with 4 Axes>"
      ]
     },
     "metadata": {
      "needs_background": "light"
     },
     "output_type": "display_data"
    },
    {
     "name": "stdout",
     "output_type": "stream",
     "text": [
      "\n",
      "Training data classification report: \n",
      "----------------------------------\n",
      "               precision    recall  f1-score   support\n",
      "\n",
      "           0       0.97      0.96      0.96     18167\n",
      "           1       0.88      0.90      0.89      6138\n",
      "\n",
      "    accuracy                           0.94     24305\n",
      "   macro avg       0.92      0.93      0.93     24305\n",
      "weighted avg       0.94      0.94      0.94     24305\n",
      "\n",
      "\n",
      "Testing data classification report: \n",
      "----------------------------------\n",
      "               precision    recall  f1-score   support\n",
      "\n",
      "           0       0.98      0.93      0.95     11150\n",
      "           1       0.44      0.69      0.53       850\n",
      "\n",
      "    accuracy                           0.92     12000\n",
      "   macro avg       0.71      0.81      0.74     12000\n",
      "weighted avg       0.94      0.92      0.92     12000\n",
      "\n"
     ]
    }
   ],
   "source": [
    "xgb_tuned_bal = xgb.XGBClassifier(n_estimators=50, max_depths=6, \n",
    "                                 scale_pos_weight=zero_one_ratio,\n",
    "                                 random_state=22)\n",
    "xgb_tuned.fit(X_train_bal, y_train_bal)\n",
    "show_confusion_matrix_and_report('tuned XGB model with class weight', xgb_tuned, X_train_bal,\n",
    "                                 y_train_bal, X_test, y_test)"
   ]
  },
  {
   "cell_type": "markdown",
   "id": "ea8aefd8",
   "metadata": {},
   "source": [
    "Similar when assigning the class weights to the Logistic Regression model, despite the f1-score dropped by 4%, we are able to increase the recall of the term deposit subscribers by 13%.\n",
    "\n",
    "Since there are no information regarding if a higher recall is more desirable, we will stick with the model with higher f1-score. In this case it is the tuned XGB model."
   ]
  },
  {
   "cell_type": "code",
   "execution_count": 64,
   "id": "f116292a",
   "metadata": {
    "ExecuteTime": {
     "end_time": "2023-07-10T23:10:02.719190Z",
     "start_time": "2023-07-10T23:10:02.716002Z"
    }
   },
   "outputs": [],
   "source": [
    "# Save the model\n",
    "import pickle\n",
    "filename = 'finalized_model.sav'\n",
    "pickle.dump(xgb_tuned, open(filename, 'wb'))"
   ]
  },
  {
   "cell_type": "code",
   "execution_count": 65,
   "id": "f387a421",
   "metadata": {
    "ExecuteTime": {
     "end_time": "2023-07-10T23:10:26.177539Z",
     "start_time": "2023-07-10T23:10:02.720190Z"
    },
    "scrolled": true
   },
   "outputs": [
    {
     "name": "stdout",
     "output_type": "stream",
     "text": [
      "Requirement already satisfied: explainerdashboard in /Users/baiyumo/opt/anaconda3/lib/python3.9/site-packages (0.4.2.2)\n",
      "Requirement already satisfied: dash-auth in /Users/baiyumo/opt/anaconda3/lib/python3.9/site-packages (from explainerdashboard) (2.0.0)\n",
      "Requirement already satisfied: pandas<2.0 in /Users/baiyumo/opt/anaconda3/lib/python3.9/site-packages (from explainerdashboard) (1.3.4)\n",
      "Requirement already satisfied: scikit-learn>=1.1 in /Users/baiyumo/opt/anaconda3/lib/python3.9/site-packages (from explainerdashboard) (1.3.0)\n",
      "Requirement already satisfied: shap>=0.37 in /Users/baiyumo/opt/anaconda3/lib/python3.9/site-packages (from explainerdashboard) (0.42.0)\n",
      "Requirement already satisfied: dtreeviz>=2.1 in /Users/baiyumo/opt/anaconda3/lib/python3.9/site-packages (from explainerdashboard) (2.2.1)\n",
      "Requirement already satisfied: dash-bootstrap-components>=1 in /Users/baiyumo/opt/anaconda3/lib/python3.9/site-packages (from explainerdashboard) (1.4.1)\n",
      "Requirement already satisfied: Flask-WTF>=1.1 in /Users/baiyumo/opt/anaconda3/lib/python3.9/site-packages (from explainerdashboard) (1.1.1)\n",
      "Requirement already satisfied: joblib in /Users/baiyumo/opt/anaconda3/lib/python3.9/site-packages (from explainerdashboard) (1.3.1)\n",
      "Requirement already satisfied: waitress in /Users/baiyumo/opt/anaconda3/lib/python3.9/site-packages (from explainerdashboard) (2.1.2)\n",
      "Requirement already satisfied: jupyter-dash>=0.4.1 in /Users/baiyumo/opt/anaconda3/lib/python3.9/site-packages (from explainerdashboard) (0.4.2)\n",
      "Requirement already satisfied: flask-simplelogin in /Users/baiyumo/opt/anaconda3/lib/python3.9/site-packages (from explainerdashboard) (0.1.2)\n",
      "Requirement already satisfied: oyaml in /Users/baiyumo/opt/anaconda3/lib/python3.9/site-packages (from explainerdashboard) (1.0)\n",
      "Requirement already satisfied: dash>=2.3.1 in /Users/baiyumo/opt/anaconda3/lib/python3.9/site-packages (from explainerdashboard) (2.11.1)\n",
      "Requirement already satisfied: numpy in /Users/baiyumo/opt/anaconda3/lib/python3.9/site-packages (from explainerdashboard) (1.20.3)\n",
      "Requirement already satisfied: graphviz>=0.18.2 in /Users/baiyumo/opt/anaconda3/lib/python3.9/site-packages (from explainerdashboard) (0.20.1)\n",
      "Requirement already satisfied: click in /Users/baiyumo/opt/anaconda3/lib/python3.9/site-packages (from explainerdashboard) (8.0.3)\n",
      "Requirement already satisfied: dash-html-components==2.0.0 in /Users/baiyumo/opt/anaconda3/lib/python3.9/site-packages (from dash>=2.3.1->explainerdashboard) (2.0.0)\n",
      "Requirement already satisfied: Flask<2.3.0,>=1.0.4 in /Users/baiyumo/opt/anaconda3/lib/python3.9/site-packages (from dash>=2.3.1->explainerdashboard) (1.1.2)\n",
      "Requirement already satisfied: plotly>=5.0.0 in /Users/baiyumo/opt/anaconda3/lib/python3.9/site-packages (from dash>=2.3.1->explainerdashboard) (5.8.0)\n",
      "Requirement already satisfied: typing-extensions>=4.1.1 in /Users/baiyumo/opt/anaconda3/lib/python3.9/site-packages (from dash>=2.3.1->explainerdashboard) (4.7.1)\n",
      "Requirement already satisfied: requests in /Users/baiyumo/opt/anaconda3/lib/python3.9/site-packages (from dash>=2.3.1->explainerdashboard) (2.26.0)\n",
      "Requirement already satisfied: nest-asyncio in /Users/baiyumo/opt/anaconda3/lib/python3.9/site-packages (from dash>=2.3.1->explainerdashboard) (1.5.1)\n",
      "Requirement already satisfied: retrying in /Users/baiyumo/opt/anaconda3/lib/python3.9/site-packages (from dash>=2.3.1->explainerdashboard) (1.3.4)\n",
      "Requirement already satisfied: dash-core-components==2.0.0 in /Users/baiyumo/opt/anaconda3/lib/python3.9/site-packages (from dash>=2.3.1->explainerdashboard) (2.0.0)\n",
      "Requirement already satisfied: Werkzeug<2.3.0 in /Users/baiyumo/opt/anaconda3/lib/python3.9/site-packages (from dash>=2.3.1->explainerdashboard) (2.0.2)\n",
      "Requirement already satisfied: dash-table==5.0.0 in /Users/baiyumo/opt/anaconda3/lib/python3.9/site-packages (from dash>=2.3.1->explainerdashboard) (5.0.0)\n",
      "Requirement already satisfied: ansi2html in /Users/baiyumo/opt/anaconda3/lib/python3.9/site-packages (from dash>=2.3.1->explainerdashboard) (1.8.0)\n",
      "Requirement already satisfied: matplotlib in /Users/baiyumo/opt/anaconda3/lib/python3.9/site-packages (from dtreeviz>=2.1->explainerdashboard) (3.4.3)\n",
      "Requirement already satisfied: colour in /Users/baiyumo/opt/anaconda3/lib/python3.9/site-packages (from dtreeviz>=2.1->explainerdashboard) (0.1.5)\n",
      "Requirement already satisfied: pytest in /Users/baiyumo/opt/anaconda3/lib/python3.9/site-packages (from dtreeviz>=2.1->explainerdashboard) (6.2.4)\n",
      "Requirement already satisfied: itsdangerous>=0.24 in /Users/baiyumo/opt/anaconda3/lib/python3.9/site-packages (from Flask<2.3.0,>=1.0.4->dash>=2.3.1->explainerdashboard) (2.0.1)\n",
      "Requirement already satisfied: Jinja2>=2.10.1 in /Users/baiyumo/opt/anaconda3/lib/python3.9/site-packages (from Flask<2.3.0,>=1.0.4->dash>=2.3.1->explainerdashboard) (2.11.3)\n",
      "Requirement already satisfied: WTForms in /Users/baiyumo/opt/anaconda3/lib/python3.9/site-packages (from Flask-WTF>=1.1->explainerdashboard) (3.0.1)\n",
      "Requirement already satisfied: MarkupSafe>=0.23 in /Users/baiyumo/opt/anaconda3/lib/python3.9/site-packages (from Jinja2>=2.10.1->Flask<2.3.0,>=1.0.4->dash>=2.3.1->explainerdashboard) (1.1.1)\n",
      "Requirement already satisfied: ipython in /Users/baiyumo/opt/anaconda3/lib/python3.9/site-packages (from jupyter-dash>=0.4.1->explainerdashboard) (7.29.0)\n",
      "Requirement already satisfied: ipykernel in /Users/baiyumo/opt/anaconda3/lib/python3.9/site-packages (from jupyter-dash>=0.4.1->explainerdashboard) (6.4.1)\n",
      "Requirement already satisfied: python-dateutil>=2.7.3 in /Users/baiyumo/opt/anaconda3/lib/python3.9/site-packages (from pandas<2.0->explainerdashboard) (2.8.2)\n",
      "Requirement already satisfied: pytz>=2017.3 in /Users/baiyumo/opt/anaconda3/lib/python3.9/site-packages (from pandas<2.0->explainerdashboard) (2021.3)\n",
      "Requirement already satisfied: tenacity>=6.2.0 in /Users/baiyumo/opt/anaconda3/lib/python3.9/site-packages (from plotly>=5.0.0->dash>=2.3.1->explainerdashboard) (8.0.1)\n",
      "Requirement already satisfied: six>=1.5 in /Users/baiyumo/opt/anaconda3/lib/python3.9/site-packages (from python-dateutil>=2.7.3->pandas<2.0->explainerdashboard) (1.16.0)\n",
      "Requirement already satisfied: threadpoolctl>=2.0.0 in /Users/baiyumo/opt/anaconda3/lib/python3.9/site-packages (from scikit-learn>=1.1->explainerdashboard) (2.2.0)\n",
      "Requirement already satisfied: scipy>=1.5.0 in /Users/baiyumo/opt/anaconda3/lib/python3.9/site-packages (from scikit-learn>=1.1->explainerdashboard) (1.7.1)\n",
      "Requirement already satisfied: cloudpickle in /Users/baiyumo/opt/anaconda3/lib/python3.9/site-packages (from shap>=0.37->explainerdashboard) (2.0.0)\n",
      "Requirement already satisfied: slicer==0.0.7 in /Users/baiyumo/opt/anaconda3/lib/python3.9/site-packages (from shap>=0.37->explainerdashboard) (0.0.7)\n",
      "Requirement already satisfied: numba in /Users/baiyumo/opt/anaconda3/lib/python3.9/site-packages (from shap>=0.37->explainerdashboard) (0.54.1)\n",
      "Requirement already satisfied: tqdm>=4.27.0 in /Users/baiyumo/opt/anaconda3/lib/python3.9/site-packages (from shap>=0.37->explainerdashboard) (4.62.3)\n",
      "Requirement already satisfied: packaging>20.9 in /Users/baiyumo/opt/anaconda3/lib/python3.9/site-packages (from shap>=0.37->explainerdashboard) (23.1)\n",
      "Requirement already satisfied: tornado<7.0,>=4.2 in /Users/baiyumo/opt/anaconda3/lib/python3.9/site-packages (from ipykernel->jupyter-dash>=0.4.1->explainerdashboard) (6.1)\n",
      "Requirement already satisfied: ipython-genutils in /Users/baiyumo/opt/anaconda3/lib/python3.9/site-packages (from ipykernel->jupyter-dash>=0.4.1->explainerdashboard) (0.2.0)\n",
      "Requirement already satisfied: debugpy<2.0,>=1.0.0 in /Users/baiyumo/opt/anaconda3/lib/python3.9/site-packages (from ipykernel->jupyter-dash>=0.4.1->explainerdashboard) (1.4.1)\n",
      "Requirement already satisfied: jupyter-client<8.0 in /Users/baiyumo/opt/anaconda3/lib/python3.9/site-packages (from ipykernel->jupyter-dash>=0.4.1->explainerdashboard) (6.1.12)\n",
      "Requirement already satisfied: matplotlib-inline<0.2.0,>=0.1.0 in /Users/baiyumo/opt/anaconda3/lib/python3.9/site-packages (from ipykernel->jupyter-dash>=0.4.1->explainerdashboard) (0.1.2)\n",
      "Requirement already satisfied: traitlets<6.0,>=4.1.0 in /Users/baiyumo/opt/anaconda3/lib/python3.9/site-packages (from ipykernel->jupyter-dash>=0.4.1->explainerdashboard) (5.1.0)\n",
      "Requirement already satisfied: appnope in /Users/baiyumo/opt/anaconda3/lib/python3.9/site-packages (from ipykernel->jupyter-dash>=0.4.1->explainerdashboard) (0.1.2)\n",
      "Requirement already satisfied: pygments in /Users/baiyumo/opt/anaconda3/lib/python3.9/site-packages (from ipython->jupyter-dash>=0.4.1->explainerdashboard) (2.10.0)\n"
     ]
    },
    {
     "name": "stdout",
     "output_type": "stream",
     "text": [
      "Requirement already satisfied: prompt-toolkit!=3.0.0,!=3.0.1,<3.1.0,>=2.0.0 in /Users/baiyumo/opt/anaconda3/lib/python3.9/site-packages (from ipython->jupyter-dash>=0.4.1->explainerdashboard) (3.0.20)\n",
      "Requirement already satisfied: setuptools>=18.5 in /Users/baiyumo/opt/anaconda3/lib/python3.9/site-packages (from ipython->jupyter-dash>=0.4.1->explainerdashboard) (58.0.4)\n",
      "Requirement already satisfied: backcall in /Users/baiyumo/opt/anaconda3/lib/python3.9/site-packages (from ipython->jupyter-dash>=0.4.1->explainerdashboard) (0.2.0)\n",
      "Requirement already satisfied: jedi>=0.16 in /Users/baiyumo/opt/anaconda3/lib/python3.9/site-packages (from ipython->jupyter-dash>=0.4.1->explainerdashboard) (0.18.0)\n",
      "Requirement already satisfied: decorator in /Users/baiyumo/opt/anaconda3/lib/python3.9/site-packages (from ipython->jupyter-dash>=0.4.1->explainerdashboard) (5.1.0)\n",
      "Requirement already satisfied: pexpect>4.3 in /Users/baiyumo/opt/anaconda3/lib/python3.9/site-packages (from ipython->jupyter-dash>=0.4.1->explainerdashboard) (4.8.0)\n",
      "Requirement already satisfied: pickleshare in /Users/baiyumo/opt/anaconda3/lib/python3.9/site-packages (from ipython->jupyter-dash>=0.4.1->explainerdashboard) (0.7.5)\n",
      "Requirement already satisfied: parso<0.9.0,>=0.8.0 in /Users/baiyumo/opt/anaconda3/lib/python3.9/site-packages (from jedi>=0.16->ipython->jupyter-dash>=0.4.1->explainerdashboard) (0.8.2)\n",
      "Requirement already satisfied: pyzmq>=13 in /Users/baiyumo/opt/anaconda3/lib/python3.9/site-packages (from jupyter-client<8.0->ipykernel->jupyter-dash>=0.4.1->explainerdashboard) (22.2.1)\n",
      "Requirement already satisfied: jupyter-core>=4.6.0 in /Users/baiyumo/opt/anaconda3/lib/python3.9/site-packages (from jupyter-client<8.0->ipykernel->jupyter-dash>=0.4.1->explainerdashboard) (4.8.1)\n",
      "Requirement already satisfied: ptyprocess>=0.5 in /Users/baiyumo/opt/anaconda3/lib/python3.9/site-packages (from pexpect>4.3->ipython->jupyter-dash>=0.4.1->explainerdashboard) (0.7.0)\n",
      "Requirement already satisfied: wcwidth in /Users/baiyumo/opt/anaconda3/lib/python3.9/site-packages (from prompt-toolkit!=3.0.0,!=3.0.1,<3.1.0,>=2.0.0->ipython->jupyter-dash>=0.4.1->explainerdashboard) (0.2.5)\n",
      "Requirement already satisfied: kiwisolver>=1.0.1 in /Users/baiyumo/opt/anaconda3/lib/python3.9/site-packages (from matplotlib->dtreeviz>=2.1->explainerdashboard) (1.3.1)\n",
      "Requirement already satisfied: pillow>=6.2.0 in /Users/baiyumo/opt/anaconda3/lib/python3.9/site-packages (from matplotlib->dtreeviz>=2.1->explainerdashboard) (8.4.0)\n",
      "Requirement already satisfied: pyparsing>=2.2.1 in /Users/baiyumo/opt/anaconda3/lib/python3.9/site-packages (from matplotlib->dtreeviz>=2.1->explainerdashboard) (3.0.4)\n",
      "Requirement already satisfied: cycler>=0.10 in /Users/baiyumo/opt/anaconda3/lib/python3.9/site-packages (from matplotlib->dtreeviz>=2.1->explainerdashboard) (0.10.0)\n",
      "Requirement already satisfied: llvmlite<0.38,>=0.37.0rc1 in /Users/baiyumo/opt/anaconda3/lib/python3.9/site-packages (from numba->shap>=0.37->explainerdashboard) (0.37.0)\n",
      "Requirement already satisfied: pyyaml in /Users/baiyumo/opt/anaconda3/lib/python3.9/site-packages (from oyaml->explainerdashboard) (6.0)\n",
      "Requirement already satisfied: attrs>=19.2.0 in /Users/baiyumo/opt/anaconda3/lib/python3.9/site-packages (from pytest->dtreeviz>=2.1->explainerdashboard) (21.2.0)\n",
      "Requirement already satisfied: iniconfig in /Users/baiyumo/opt/anaconda3/lib/python3.9/site-packages (from pytest->dtreeviz>=2.1->explainerdashboard) (1.1.1)\n",
      "Requirement already satisfied: pluggy<1.0.0a1,>=0.12 in /Users/baiyumo/opt/anaconda3/lib/python3.9/site-packages (from pytest->dtreeviz>=2.1->explainerdashboard) (0.13.1)\n",
      "Requirement already satisfied: py>=1.8.2 in /Users/baiyumo/opt/anaconda3/lib/python3.9/site-packages (from pytest->dtreeviz>=2.1->explainerdashboard) (1.10.0)\n",
      "Requirement already satisfied: toml in /Users/baiyumo/opt/anaconda3/lib/python3.9/site-packages (from pytest->dtreeviz>=2.1->explainerdashboard) (0.10.2)\n",
      "Requirement already satisfied: certifi>=2017.4.17 in /Users/baiyumo/opt/anaconda3/lib/python3.9/site-packages (from requests->dash>=2.3.1->explainerdashboard) (2021.10.8)\n",
      "Requirement already satisfied: charset-normalizer~=2.0.0 in /Users/baiyumo/opt/anaconda3/lib/python3.9/site-packages (from requests->dash>=2.3.1->explainerdashboard) (2.0.4)\n",
      "Requirement already satisfied: idna<4,>=2.5 in /Users/baiyumo/opt/anaconda3/lib/python3.9/site-packages (from requests->dash>=2.3.1->explainerdashboard) (3.2)\n",
      "Requirement already satisfied: urllib3<1.27,>=1.21.1 in /Users/baiyumo/opt/anaconda3/lib/python3.9/site-packages (from requests->dash>=2.3.1->explainerdashboard) (1.26.7)\n",
      "Collecting package metadata (current_repodata.json): done\n",
      "Solving environment: done\n",
      "\n",
      "\n",
      "==> WARNING: A newer version of conda exists. <==\n",
      "  current version: 22.9.0\n",
      "  latest version: 23.5.0\n",
      "\n",
      "Please update conda by running\n",
      "\n",
      "    $ conda update -n base -c defaults conda\n",
      "\n",
      "\n",
      "\n",
      "# All requested packages already installed.\n",
      "\n",
      "Retrieving notices: ...working... done\n"
     ]
    }
   ],
   "source": [
    "!pip install explainerdashboard\n",
    "!conda install python-graphviz"
   ]
  },
  {
   "cell_type": "code",
   "execution_count": 68,
   "id": "13cd6544",
   "metadata": {
    "ExecuteTime": {
     "end_time": "2023-07-10T23:17:45.775442Z",
     "start_time": "2023-07-10T23:17:45.666245Z"
    },
    "scrolled": true
   },
   "outputs": [
    {
     "name": "stdout",
     "output_type": "stream",
     "text": [
      "Detected XGBClassifier model: Changing class type to XGBClassifierExplainer...\n",
      "Note: model_output=='probability'. For XGBClassifier shap values normally get calculated against X_background, but paramater X_background=None, so using X instead\n",
      "Generating self.shap_explainer = shap.TreeExplainer(model, X, model_output='probability', feature_perturbation='interventional')...\n",
      "Note: Shap interaction values will not be available. If shap values in probability space are not necessary you can pass model_output='logodds' to get shap values in logodds without the need for a background dataset and also working shap interaction values...\n"
     ]
    }
   ],
   "source": [
    "from explainerdashboard import ClassifierExplainer, ExplainerDashboard\n",
    "\n",
    "X_test_df = pd.DataFrame(X_test, columns=X.columns)\n",
    "explainer = ClassifierExplainer(xgb_tuned, X_test_df, y_test)"
   ]
  },
  {
   "cell_type": "code",
   "execution_count": 69,
   "id": "7d8502d5",
   "metadata": {
    "ExecuteTime": {
     "end_time": "2023-07-10T23:18:44.408693Z",
     "start_time": "2023-07-10T23:18:20.609262Z"
    }
   },
   "outputs": [
    {
     "name": "stdout",
     "output_type": "stream",
     "text": [
      "Building ExplainerDashboard..\n",
      "WARNING: the number of idxs (=12000) > max_idxs_in_dropdown(=1000). However with your installed version of dash(2.11.1) dropdown search may not work smoothly. You can downgrade to `pip install dash==2.6.2` which should work better for now...\n",
      "Detected notebook environment, consider setting mode='external', mode='inline' or mode='jupyterlab' to keep the notebook interactive while the dashboard is running...\n",
      "For this type of model and model_output interactions don't work, so setting shap_interaction=False...\n",
      "Generating layout...\n",
      "Calculating shap values...\n"
     ]
    },
    {
     "name": "stderr",
     "output_type": "stream",
     "text": [
      "100%|===================| 11956/12000 [00:18<00:00]        "
     ]
    },
    {
     "name": "stdout",
     "output_type": "stream",
     "text": [
      "Calculating prediction probabilities...\n",
      "Calculating metrics...\n",
      "Calculating confusion matrices...\n",
      "Calculating classification_dfs...\n",
      "Calculating roc auc curves...\n",
      "Calculating pr auc curves...\n",
      "Calculating liftcurve_dfs...\n",
      "Generating xgboost model dump...\n",
      "Calculating dependencies...\n",
      "Calculating permutation importances (if slow, try setting n_jobs parameter)...\n",
      "Calculating pred_percentiles...\n",
      "Calculating predictions...\n",
      "Calculating ShadowDecTree for each individual decision tree...\n",
      "Reminder: you can store the explainer (including calculated dependencies) with explainer.dump('explainer.joblib') and reload with e.g. ClassifierExplainer.from_file('explainer.joblib')\n",
      "Registering callbacks...\n",
      "Starting ExplainerDashboard on http://192.168.2.58:8050\n"
     ]
    },
    {
     "data": {
      "text/html": [
       "\n",
       "        <iframe\n",
       "            width=\"100%\"\n",
       "            height=\"650\"\n",
       "            src=\"http://0.0.0.0:8050/\"\n",
       "            frameborder=\"0\"\n",
       "            allowfullscreen\n",
       "            \n",
       "        ></iframe>\n",
       "        "
      ],
      "text/plain": [
       "<IPython.lib.display.IFrame at 0x7f9c50489df0>"
      ]
     },
     "metadata": {},
     "output_type": "display_data"
    }
   ],
   "source": [
    "ExplainerDashboard(explainer).run()"
   ]
  },
  {
   "cell_type": "markdown",
   "id": "83f7c714",
   "metadata": {},
   "source": [
    "### Prediction Probablity Threshold vs F1-score"
   ]
  },
  {
   "cell_type": "markdown",
   "id": "0b092c1b",
   "metadata": {},
   "source": [
    "To further balance the precision and recall score, we can plot the f1-score against different choice of probability threshold to find the threshold that maximizes the f1-score."
   ]
  },
  {
   "cell_type": "code",
   "execution_count": 70,
   "id": "9759ec21",
   "metadata": {
    "ExecuteTime": {
     "end_time": "2023-07-10T23:18:44.609064Z",
     "start_time": "2023-07-10T23:18:44.410483Z"
    }
   },
   "outputs": [
    {
     "data": {
      "image/png": "[encoded data removed]",
      "text/plain": [
       "<Figure size 432x288 with 1 Axes>"
      ]
     },
     "metadata": {
      "needs_background": "light"
     },
     "output_type": "display_data"
    }
   ],
   "source": [
    "from sklearn.metrics import f1_score\n",
    "thresholds = np.arange(21)*0.05\n",
    "f1_scores = []\n",
    "\n",
    "y_proba = xgb_tuned.predict_proba(X_test)[:,1]\n",
    "\n",
    "for thres in thresholds:\n",
    "    y_pred = np.where(y_proba > thres, 1, 0)\n",
    "    f1_scores.append(f1_score(y_test, y_pred))\n",
    "\n",
    "plt.figure()\n",
    "plt.plot(thresholds, f1_scores, label='f1_score')\n",
    "plt.xlabel('Probability Thresholds')\n",
    "plt.ylabel('F1-score')\n",
    "plt.title('XGB Final Probability Thresholds vs F1-score')\n",
    "plt.legend()\n",
    "plt.grid()\n",
    "plt.show()"
   ]
  },
  {
   "cell_type": "markdown",
   "id": "ff7da098",
   "metadata": {},
   "source": [
    "It seems that at probability threshold of 0.6, the model achieve the maximum f1-score on the test set. So we choose 0.6 as the probability threshold of the model."
   ]
  },
  {
   "cell_type": "markdown",
   "id": "81891923",
   "metadata": {},
   "source": [
    "## Potential subscribers"
   ]
  },
  {
   "cell_type": "markdown",
   "id": "61f82f51",
   "metadata": {},
   "source": [
    "With our final model, we can find the potential customers who are not currently subscribed to a term deposit but might be convertable. We will consider the false positives from our model's prediction as the potentially convertable customers."
   ]
  },
  {
   "cell_type": "code",
   "execution_count": 71,
   "id": "d888f1fb",
   "metadata": {
    "ExecuteTime": {
     "end_time": "2023-07-10T23:18:44.654040Z",
     "start_time": "2023-07-10T23:18:44.610418Z"
    }
   },
   "outputs": [],
   "source": [
    "# Normalize the entire data set\n",
    "X_norm = ss.transform(X)\n",
    "\n",
    "# Generate predicted probablity with our model\n",
    "y_proba = xgb_tuned.predict_proba(X_norm)[:,1]\n",
    "\n",
    "# Predict using the optimal threshold of 0.6\n",
    "y_pred = np.where(y_proba > 0.6, 1, 0)\n",
    "\n",
    "# Find the false positves indexes\n",
    "FP = np.where((y == 0)&(y_pred == 1))[0]\n",
    "\n",
    "# Find the potential customers in the original dataset\n",
    "potential_customer_df = df.loc[FP]"
   ]
  },
  {
   "cell_type": "markdown",
   "id": "5415b0eb",
   "metadata": {},
   "source": [
    "We're able to construct a dataset for the potential customers, let's take a look at the data."
   ]
  },
  {
   "cell_type": "code",
   "execution_count": 72,
   "id": "580ae361",
   "metadata": {
    "ExecuteTime": {
     "end_time": "2023-07-10T23:18:44.666476Z",
     "start_time": "2023-07-10T23:18:44.659184Z"
    }
   },
   "outputs": [
    {
     "data": {
      "text/html": [
       "<div>\n",
       "<style scoped>\n",
       "    .dataframe tbody tr th:only-of-type {\n",
       "        vertical-align: middle;\n",
       "    }\n",
       "\n",
       "    .dataframe tbody tr th {\n",
       "        vertical-align: top;\n",
       "    }\n",
       "\n",
       "    .dataframe thead th {\n",
       "        text-align: right;\n",
       "    }\n",
       "</style>\n",
       "<table border=\"1\" class=\"dataframe\">\n",
       "  <thead>\n",
       "    <tr style=\"text-align: right;\">\n",
       "      <th></th>\n",
       "      <th>age</th>\n",
       "      <th>job</th>\n",
       "      <th>marital</th>\n",
       "      <th>education</th>\n",
       "      <th>balance</th>\n",
       "      <th>housing</th>\n",
       "      <th>loan</th>\n",
       "      <th>duration</th>\n",
       "      <th>campaign</th>\n",
       "      <th>y</th>\n",
       "      <th>use_cellular</th>\n",
       "      <th>quarter</th>\n",
       "      <th>heavy_months</th>\n",
       "    </tr>\n",
       "  </thead>\n",
       "  <tbody>\n",
       "    <tr>\n",
       "      <th>37</th>\n",
       "      <td>53</td>\n",
       "      <td>technician</td>\n",
       "      <td>married</td>\n",
       "      <td>secondary</td>\n",
       "      <td>-3</td>\n",
       "      <td>0</td>\n",
       "      <td>0</td>\n",
       "      <td>1666</td>\n",
       "      <td>1</td>\n",
       "      <td>0</td>\n",
       "      <td>0</td>\n",
       "      <td>2</td>\n",
       "      <td>1</td>\n",
       "    </tr>\n",
       "    <tr>\n",
       "      <th>38</th>\n",
       "      <td>36</td>\n",
       "      <td>admin</td>\n",
       "      <td>divorced</td>\n",
       "      <td>secondary</td>\n",
       "      <td>506</td>\n",
       "      <td>1</td>\n",
       "      <td>0</td>\n",
       "      <td>577</td>\n",
       "      <td>1</td>\n",
       "      <td>0</td>\n",
       "      <td>0</td>\n",
       "      <td>2</td>\n",
       "      <td>1</td>\n",
       "    </tr>\n",
       "    <tr>\n",
       "      <th>61</th>\n",
       "      <td>53</td>\n",
       "      <td>technician</td>\n",
       "      <td>divorced</td>\n",
       "      <td>secondary</td>\n",
       "      <td>989</td>\n",
       "      <td>1</td>\n",
       "      <td>0</td>\n",
       "      <td>812</td>\n",
       "      <td>1</td>\n",
       "      <td>0</td>\n",
       "      <td>0</td>\n",
       "      <td>2</td>\n",
       "      <td>1</td>\n",
       "    </tr>\n",
       "    <tr>\n",
       "      <th>92</th>\n",
       "      <td>60</td>\n",
       "      <td>admin</td>\n",
       "      <td>married</td>\n",
       "      <td>secondary</td>\n",
       "      <td>290</td>\n",
       "      <td>1</td>\n",
       "      <td>0</td>\n",
       "      <td>583</td>\n",
       "      <td>1</td>\n",
       "      <td>0</td>\n",
       "      <td>0</td>\n",
       "      <td>2</td>\n",
       "      <td>1</td>\n",
       "    </tr>\n",
       "    <tr>\n",
       "      <th>109</th>\n",
       "      <td>45</td>\n",
       "      <td>management</td>\n",
       "      <td>married</td>\n",
       "      <td>tertiary</td>\n",
       "      <td>523</td>\n",
       "      <td>1</td>\n",
       "      <td>0</td>\n",
       "      <td>849</td>\n",
       "      <td>2</td>\n",
       "      <td>0</td>\n",
       "      <td>0</td>\n",
       "      <td>2</td>\n",
       "      <td>1</td>\n",
       "    </tr>\n",
       "  </tbody>\n",
       "</table>\n",
       "</div>"
      ],
      "text/plain": [
       "     age         job   marital  education  balance  housing  loan  duration  \\\n",
       "37    53  technician   married  secondary       -3        0     0      1666   \n",
       "38    36       admin  divorced  secondary      506        1     0       577   \n",
       "61    53  technician  divorced  secondary      989        1     0       812   \n",
       "92    60       admin   married  secondary      290        1     0       583   \n",
       "109   45  management   married   tertiary      523        1     0       849   \n",
       "\n",
       "    campaign  y  use_cellular  quarter  heavy_months  \n",
       "37         1  0             0        2             1  \n",
       "38         1  0             0        2             1  \n",
       "61         1  0             0        2             1  \n",
       "92         1  0             0        2             1  \n",
       "109        2  0             0        2             1  "
      ]
     },
     "execution_count": 72,
     "metadata": {},
     "output_type": "execute_result"
    }
   ],
   "source": [
    "potential_customer_df.head()"
   ]
  },
  {
   "cell_type": "code",
   "execution_count": 73,
   "id": "523d64f8",
   "metadata": {
    "ExecuteTime": {
     "end_time": "2023-07-10T23:18:44.677261Z",
     "start_time": "2023-07-10T23:18:44.667892Z"
    }
   },
   "outputs": [
    {
     "name": "stdout",
     "output_type": "stream",
     "text": [
      "<class 'pandas.core.frame.DataFrame'>\n",
      "Int64Index: 1670 entries, 37 to 39998\n",
      "Data columns (total 13 columns):\n",
      " #   Column        Non-Null Count  Dtype \n",
      "---  ------        --------------  ----- \n",
      " 0   age           1670 non-null   int64 \n",
      " 1   job           1670 non-null   object\n",
      " 2   marital       1670 non-null   object\n",
      " 3   education     1670 non-null   object\n",
      " 4   balance       1670 non-null   int64 \n",
      " 5   housing       1670 non-null   int64 \n",
      " 6   loan          1670 non-null   int64 \n",
      " 7   duration      1670 non-null   int64 \n",
      " 8   campaign      1670 non-null   object\n",
      " 9   y             1670 non-null   int64 \n",
      " 10  use_cellular  1670 non-null   int64 \n",
      " 11  quarter       1670 non-null   int64 \n",
      " 12  heavy_months  1670 non-null   int64 \n",
      "dtypes: int64(9), object(4)\n",
      "memory usage: 182.7+ KB\n"
     ]
    }
   ],
   "source": [
    "potential_customer_df.info()"
   ]
  },
  {
   "cell_type": "markdown",
   "id": "f109e95e",
   "metadata": {},
   "source": [
    "We are able to identify 1670 customers who are more likely to buy the investment product in the future."
   ]
  },
  {
   "cell_type": "markdown",
   "id": "0408c23e",
   "metadata": {},
   "source": [
    "## Feature importance"
   ]
  },
  {
   "cell_type": "markdown",
   "id": "3243118d",
   "metadata": {},
   "source": [
    "As we have a final working XGB model, we can leverage the `feature importance` of such tree based models and eliminate features that are less important."
   ]
  },
  {
   "cell_type": "code",
   "execution_count": 74,
   "id": "94081659",
   "metadata": {
    "ExecuteTime": {
     "end_time": "2023-07-10T23:18:44.869022Z",
     "start_time": "2023-07-10T23:18:44.679725Z"
    }
   },
   "outputs": [
    {
     "data": {
      "image/png": "[encoded data removed]",
      "text/plain": [
       "<Figure size 720x720 with 1 Axes>"
      ]
     },
     "metadata": {
      "needs_background": "light"
     },
     "output_type": "display_data"
    }
   ],
   "source": [
    "# Construct a importance df\n",
    "importance_df = pd.DataFrame(xgb_tuned.feature_importances_, index=X.columns, columns=['Importance'])\n",
    "importance_df.sort_values(by='Importance', inplace=True)\n",
    "\n",
    "# Plot feature importance\n",
    "plt.figure(figsize=(10,10))\n",
    "plt.barh(importance_df.index, importance_df['Importance'])\n",
    "plt.xticks(rotation=90)\n",
    "plt.xlabel('features')\n",
    "plt.ylabel('feature importance')\n",
    "plt.title('XGB final model feature importance')\n",
    "plt.show()"
   ]
  },
  {
   "cell_type": "markdown",
   "id": "2153d987",
   "metadata": {},
   "source": [
    "As we mentioned above, the model is somewhat overfitting the training data. We could reduce overfitting by only keeping the most important features. Here we will only keep the features with importance over 0.05."
   ]
  },
  {
   "cell_type": "code",
   "execution_count": 75,
   "id": "f8674a44",
   "metadata": {
    "ExecuteTime": {
     "end_time": "2023-07-10T23:18:44.874012Z",
     "start_time": "2023-07-10T23:18:44.870560Z"
    }
   },
   "outputs": [],
   "source": [
    "# Get the feature names\n",
    "selected_features = importance_df[importance_df['Importance'] > 0.05].index\n",
    "\n",
    "# construct a df for training and testing sets\n",
    "X_train_bal_df = pd.DataFrame(X_train_bal, columns=X.columns)\n",
    "X_test_df = pd.DataFrame(X_test, columns=X.columns)"
   ]
  },
  {
   "cell_type": "code",
   "execution_count": 76,
   "id": "6bf07152",
   "metadata": {
    "ExecuteTime": {
     "end_time": "2023-07-10T23:18:44.877998Z",
     "start_time": "2023-07-10T23:18:44.874945Z"
    }
   },
   "outputs": [],
   "source": [
    "# only keep the selected features\n",
    "X_train_bal_df = X_train_bal_df[selected_features]\n",
    "X_test_df = X_test_df[selected_features]"
   ]
  },
  {
   "cell_type": "code",
   "execution_count": 77,
   "id": "56a0a654",
   "metadata": {
    "ExecuteTime": {
     "end_time": "2023-07-10T23:18:45.891722Z",
     "start_time": "2023-07-10T23:18:44.879008Z"
    }
   },
   "outputs": [
    {
     "name": "stdout",
     "output_type": "stream",
     "text": [
      "[19:18:44] WARNING: /Users/runner/work/xgboost/xgboost/python-package/build/temp.macosx-10.9-x86_64-cpython-38/xgboost/src/learner.cc:767: \n",
      "Parameters: { \"max_depths\" } are not used.\n",
      "\n",
      "Confusion matrices: 5 feature XGB model \n",
      "----------------------------------\n",
      "\n"
     ]
    },
    {
     "data": {
      "image/png": "[encoded data removed]",
      "text/plain": [
       "<Figure size 720x216 with 4 Axes>"
      ]
     },
     "metadata": {
      "needs_background": "light"
     },
     "output_type": "display_data"
    },
    {
     "name": "stdout",
     "output_type": "stream",
     "text": [
      "\n",
      "Training data classification report: \n",
      "----------------------------------\n",
      "               precision    recall  f1-score   support\n",
      "\n",
      "           0       0.93      0.94      0.93     18167\n",
      "           1       0.81      0.81      0.81      6138\n",
      "\n",
      "    accuracy                           0.90     24305\n",
      "   macro avg       0.87      0.87      0.87     24305\n",
      "weighted avg       0.90      0.90      0.90     24305\n",
      "\n",
      "\n",
      "Testing data classification report: \n",
      "----------------------------------\n",
      "               precision    recall  f1-score   support\n",
      "\n",
      "           0       0.98      0.92      0.95     11150\n",
      "           1       0.41      0.70      0.52       850\n",
      "\n",
      "    accuracy                           0.91     12000\n",
      "   macro avg       0.70      0.81      0.74     12000\n",
      "weighted avg       0.94      0.91      0.92     12000\n",
      "\n"
     ]
    }
   ],
   "source": [
    "# Retrain a xgb model and see the performance\n",
    "xgb_5_feature = xgb.XGBClassifier(n_estimators=50, max_depths=6)\n",
    "xgb_5_feature.fit(X_train_bal_df.values, y_train_bal)\n",
    "show_confusion_matrix_and_report('5 feature XGB model', xgb_5_feature, X_train_bal_df.values,\n",
    "                                y_train_bal, X_test_df.values, y_test)"
   ]
  },
  {
   "cell_type": "markdown",
   "id": "8da7aa60",
   "metadata": {},
   "source": [
    "Only using the five most important features, our XGB model has 90% accuracy on the training set and 91% accuracy on the testing set. Looks like we have addressed the overfitting well. The precision score dropped by 0.03 but the recall increased by 0.01. The f1-score dropped slightly from 0.53 to 0.52.\n",
    "\n",
    "Since our model only using top five features would still generate a reasonable performance, we could argue that they are the most deciding factors in determining if a customer would purchase the investment product. \n",
    "\n",
    "Some observation and insights:\n",
    "- Among the five features, `heavy_month` and `quarter` are both describing the time of the last call made which might indicate that people are more willing to purchase an investment product during some certain months in a year.\n",
    "- `duration` is a important feature and it makes sense as the people who are interested in buying a product probably would spend more time on the call with the clients.\n",
    "- `use_cellular` distinguishes the customer group and it shows that customers who communicate over the cellular have a different probability of purchasing the product comparing to those who don't.\n",
    "- `housing` is also a good indicator probably because people who do have experience with housing loans are more likely to be familiar with the financial tools or are equipped with more investment knowledge."
   ]
  }
 ],
 "metadata": {
  "kernelspec": {
   "display_name": "Python 3 (ipykernel)",
   "language": "python",
   "name": "python3"
  },
  "language_info": {
   "codemirror_mode": {
    "name": "ipython",
    "version": 3
   },
   "file_extension": ".py",
   "mimetype": "text/x-python",
   "name": "python",
   "nbconvert_exporter": "python",
   "pygments_lexer": "ipython3",
   "version": "3.9.7"
  },
  "varInspector": {
   "cols": {
    "lenName": 16,
    "lenType": 16,
    "lenVar": 40
   },
   "kernels_config": {
    "python": {
     "delete_cmd_postfix": "",
     "delete_cmd_prefix": "del ",
     "library": "var_list.py",
     "varRefreshCmd": "print(var_dic_list())"
    },
    "r": {
     "delete_cmd_postfix": ") ",
     "delete_cmd_prefix": "rm(",
     "library": "var_list.r",
     "varRefreshCmd": "cat(var_dic_list()) "
    }
   },
   "types_to_exclude": [
    "module",
    "function",
    "builtin_function_or_method",
    "instance",
    "_Feature"
   ],
   "window_display": false
  }
 },
 "nbformat": 4,
 "nbformat_minor": 5
}
